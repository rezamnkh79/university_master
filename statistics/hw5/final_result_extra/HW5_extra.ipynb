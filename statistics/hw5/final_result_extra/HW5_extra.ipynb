{
 "cells": [
  {
   "cell_type": "code",
   "execution_count": 6,
   "id": "fbc121e30a2defb3",
   "metadata": {
    "ExecuteTime": {
     "end_time": "2025-02-05T09:01:27.572273Z",
     "start_time": "2025-02-05T09:01:26.965912Z"
    }
   },
   "outputs": [
    {
     "data": {
      "text/plain": [
       "np.float64(0.14501188337214335)"
      ]
     },
     "execution_count": 6,
     "metadata": {},
     "output_type": "execute_result"
    }
   ],
   "source": [
    "#Q14 part3\n",
    "import numpy as np\n",
    "\n",
    "data = np.array([3, 0, 2, 1, 3, 2, 1, 0, 2, 1])\n",
    "\n",
    "def mle_estimate(data):\n",
    "    n_0 = np.sum(data == 0)\n",
    "    n_1 = np.sum(data == 1)\n",
    "    n_2 = np.sum(data == 2)\n",
    "    n_3 = np.sum(data == 3)\n",
    "    return (n_1 + n_0) / (n_0 + n_1 + 2 * n_2 + 3 * n_3)\n",
    "B = 10000\n",
    "bootstrap_estimates = np.zeros(B)\n",
    "\n",
    "for b in range(B):\n",
    "    bootstrap_sample = np.random.choice(data, size=len(data), replace=True)\n",
    "    bootstrap_estimates[b] = mle_estimate(bootstrap_sample)\n",
    "\n",
    "bootstrap_se = np.std(bootstrap_estimates)\n",
    "\n",
    "bootstrap_se\n"
   ]
  }
 ],
 "metadata": {
  "kernelspec": {
   "display_name": "Python 3",
   "language": "python",
   "name": "python3"
  },
  "language_info": {
   "codemirror_mode": {
    "name": "ipython",
    "version": 2
   },
   "file_extension": ".py",
   "mimetype": "text/x-python",
   "name": "python",
   "nbconvert_exporter": "python",
   "pygments_lexer": "ipython2",
   "version": "2.7.6"
  }
 },
 "nbformat": 4,
 "nbformat_minor": 5
}

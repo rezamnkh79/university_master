{
 "cells": [
  {
   "cell_type": "markdown",
   "metadata": {
    "id": "rlrrsi07MDhO"
   },
   "source": [
    "<div dir=\"rtl\" style=\"font-family: Vazir; width: 85%; font-size:25px\">\n",
    "\n",
    "#**تمرین شماره 3: درس پردازش زبان طبیعی - دانشگاه تهران، پائیز ۱۴۰۳**"
   ]
  },
  {
   "cell_type": "markdown",
   "metadata": {
    "id": "T42xpmfrMDhQ"
   },
   "source": [
    "<div dir=\"rtl\" style=\"font-family: Vazir; width: 85%; font-size: 18px;\">\n",
    "نام:رضا منصوری خواه\n",
    "<br/>\n",
    "شماره دانشجویی:\n",
    ""
   ]
  },
  {
   "cell_type": "markdown",
   "metadata": {
    "id": "58azWVGxMDhQ"
   },
   "source": [
    "<div dir=\"rtl\" style=\"font-family: Vazir; width: 85%; font-size: 16px\">\n",
    "سوالات خود درباره تمرین را از طریق ایمیل های زیر میتوانید بپرسید:\n",
    "---\n",
    "سوال اول:\n",
    "علی رمضانی\n",
    "<code>ali.ramezani.96@ut.ac.ir</code>\n",
    "---\n",
    "سوال دوم:\n",
    "پرهام سازدار\n",
    "<code>p.sazdar@ut.ac.ir</code>\n",
    "---\n",
    "\n"
   ]
  },
  {
   "cell_type": "markdown",
   "metadata": {
    "id": "foW-gR1HMDhR"
   },
   "source": [
    "<div dir=\"rtl\" style=\"font-family: Vazir; width: 85%; font-size: 18px; color: red; font-weight: bold;\">\n",
    "قوانین و توضیحاتی آخر فایل تمرین حتما به دقت مطالعه شود.\n",
    "</div>"
   ]
  },
  {
   "metadata": {
    "ExecuteTime": {
     "end_time": "2024-12-11T20:26:57.876216Z",
     "start_time": "2024-12-11T20:26:57.872587Z"
    }
   },
   "cell_type": "code",
   "source": "print(\"https://chatgpt.com/share/6759f573-23ac-8006-8d51-50c6cecf92d0\")",
   "outputs": [
    {
     "name": "stdout",
     "output_type": "stream",
     "text": [
      "https://chatgpt.com/share/6759f573-23ac-8006-8d51-50c6cecf92d0\n"
     ]
    }
   ],
   "execution_count": 13
  },
  {
   "cell_type": "markdown",
   "source": [
    "<div dir=\"rtl\" style=\"font-family: Vazir; width: 85%; font-size: 16px\">\n",
    "\n",
    "# **سوال اول:**"
   ],
   "metadata": {
    "id": "52tAk_6dMWnF"
   }
  },
  {
   "cell_type": "markdown",
   "source": [
    "<div dir=\"rtl\" style=\"font-family: Vazir; width: 85%; font-size: 16px\">\n",
    "\n",
    "*بخش مجموعه داده:*\n",
    "---\n",
    "پاسخ الف:\n",
    "---\n",
    "# پاسخ خود را اینجا بنویسید:\n",
    "---\n",
    "\n",
    "پاسخ ب:\n",
    "---\n",
    "# پاسخ خود را اینجا بنویسید:\n",
    "---"
   ],
   "metadata": {
    "id": "DkAAw0haMdyS"
   }
  },
  {
   "metadata": {},
   "cell_type": "markdown",
   "source": ""
  },
  {
   "metadata": {
    "ExecuteTime": {
     "end_time": "2024-12-11T16:31:00.243835Z",
     "start_time": "2024-12-11T16:30:55.212539Z"
    }
   },
   "cell_type": "code",
   "source": [
    "from datasets import load_dataset\n",
    "\n",
    "dataset = load_dataset(\"conll2003\")\n",
    "train_data = dataset[\"train\"]\n",
    "valid_data = dataset[\"validation\"]\n",
    "test_data = dataset[\"test\"]\n",
    "\n",
    "print(\"\"\"\n",
    "پاسخ الف:                                                                                                                                         \n",
    "دیتاست CoNLL-2003 شامل سه ویژگی اصلی است: ابتدا کلمه (Token) که ورودی اصلی مدل را تشکیل می‌دهد، سپس برچسب دستوری (POS Tag) که نوع دستوری هر کلمه را مشخص می‌کند و در نهایت برچسب موجودیت نامدار (NER Tag) که نوع موجودیت‌های نامدار مانند اشخاص (PER)، سازمان‌ها (ORG) و مکان‌ها (LOC) را تعیین می‌کند. این دیتاست به صورت خط به خط ارائه می‌شود، به طوری که در هر خط کلمه‌ای به همراه برچسب‌های مربوط به آن قرار دارد. ساختار  داده‌ها معمولاً شامل جملات و برچسب‌ها است که مدل باید بر اساس آن‌ها موجودیت‌ها را شناسایی کند. هدف اصلی این دیتاست پیش‌بینی                  موجودیت‌های نامدار است                                                                                                                 \n",
    "\"\"\")"
   ],
   "outputs": [
    {
     "name": "stdout",
     "output_type": "stream",
     "text": [
      "\n",
      "پاسخ الف:                                                                                                                                         \n",
      "دیتاست CoNLL-2003 شامل سه ویژگی اصلی است: ابتدا کلمه (Token) که ورودی اصلی مدل را تشکیل می‌دهد، سپس برچسب دستوری (POS Tag) که نوع دستوری هر کلمه را مشخص می‌کند و در نهایت برچسب موجودیت نامدار (NER Tag) که نوع موجودیت‌های نامدار مانند اشخاص (PER)، سازمان‌ها (ORG) و مکان‌ها (LOC) را تعیین می‌کند. این دیتاست به صورت خط به خط ارائه می‌شود، به طوری که در هر خط کلمه‌ای به همراه برچسب‌های مربوط به آن قرار دارد. ساختار  داده‌ها معمولاً شامل جملات و برچسب‌ها است که مدل باید بر اساس آن‌ها موجودیت‌ها را شناسایی کند. هدف اصلی این دیتاست پیش‌بینی                  موجودیت‌های نامدار است                                                                                                                 \n",
      "\n"
     ]
    }
   ],
   "execution_count": 1
  },
  {
   "metadata": {
    "ExecuteTime": {
     "end_time": "2024-11-21T19:54:45.798579Z",
     "start_time": "2024-11-21T19:54:45.790304Z"
    }
   },
   "cell_type": "code",
   "source": [
    "print(\"\"\"\n",
    "پاسخ ب:                                                                                                                                        \n",
    "\n",
    "O (Other):\n",
    "\n",
    "    این برچسب به کلمات یا توکن‌هایی اطلاق می‌شود که هیچ موجودیت نامداری را نمایش نمی‌دهند. به عبارت دیگر، این کلمات مربوط به موجودیت‌های   خاص (مثل شخص، سازمان یا مکان) نیستند و به عنوان \"دیگر\" طبقه‌بندی می‌شوند.                                                              \n",
    "    برای مثال، در جمله \"Ali is the CTO\", کلمه \"is\" یا \"the\" برچسب \"O\" دریافت می‌کند زیرا هیچ کدام به یک موجودیت نامدار اشاره ندارند  .\n",
    "B Entity Type and I EntityType:\n",
    "برچسب‌های B و I برای مشخص کردن مرزهای موجودیت‌های نام‌دار (Named Entities) استفاده می‌شوند. برچسب B Entity Type نشان‌دهنده شروع یک موجودیت نام‌دار است. به عنوان مثال، B-PER برای علامت‌گذاری شروع نام یک شخص استفاده می‌شود. برچسب I Entity Type به ادامه همان موجودیت نام‌دار اشاره دارد، به‌طور مثال I-PER برای توکن‌هایی است که به همان شخص اشاره دارند و در ادامه نام او آمده‌اند. این برچسب‌ها به مدل کمک می‌کنند تا موجودیت‌های نام‌دار را به‌درستی شناسایی و تفکیک کند و شروع و ادامه‌ی موجودیت‌هایی مانند افراد، مکان‌ها  و  سازمان‌ها را از هم تشخیص دهد.                                                                                                         \n",
    "\"\"\")"
   ],
   "outputs": [
    {
     "name": "stdout",
     "output_type": "stream",
     "text": [
      "\n",
      "پاسخ ب:                                                                                                                                        \n",
      "\n",
      "O (Other):\n",
      "\n",
      "    این برچسب به کلمات یا توکن‌هایی اطلاق می‌شود که هیچ موجودیت نامداری را نمایش نمی‌دهند. به عبارت دیگر، این کلمات مربوط به موجودیت‌های   خاص (مثل شخص، سازمان یا مکان) نیستند و به عنوان \"دیگر\" طبقه‌بندی می‌شوند.                                                              \n",
      "    برای مثال، در جمله \"Ali is the CTO\", کلمه \"is\" یا \"the\" برچسب \"O\" دریافت می‌کند زیرا هیچ کدام به یک موجودیت نامدار اشاره ندارند  .\n",
      "B Entity Type and I EntityType:\n",
      "برچسب‌های B و I برای مشخص کردن مرزهای موجودیت‌های نام‌دار (Named Entities) استفاده می‌شوند. برچسب B Entity Type نشان‌دهنده شروع یک موجودیت نام‌دار است. به عنوان مثال، B-PER برای علامت‌گذاری شروع نام یک شخص استفاده می‌شود. برچسب I Entity Type به ادامه همان موجودیت نام‌دار اشاره دارد، به‌طور مثال I-PER برای توکن‌هایی است که به همان شخص اشاره دارند و در ادامه نام او آمده‌اند. این برچسب‌ها به مدل کمک می‌کنند تا موجودیت‌های نام‌دار را به‌درستی شناسایی و تفکیک کند و شروع و ادامه‌ی موجودیت‌هایی مانند افراد، مکان‌ها  و  سازمان‌ها را از هم تشخیص دهد.                                                                                                         \n",
      "\n"
     ]
    }
   ],
   "execution_count": 13
  },
  {
   "cell_type": "code",
   "source": [
    "import collections\n",
    "import numpy as np\n",
    "\n",
    "import collections\n",
    "\n",
    "special_tokens = ['<s>', '</s>', '<pad>', '<unk>']\n",
    "\n",
    "\n",
    "def build_vocab(dataset, cutoff):\n",
    "    token_count = collections.Counter()\n",
    "    for sentence in dataset:\n",
    "        for token in sentence['tokens']:\n",
    "            token_count[token] += 1\n",
    "    token_to_id = {}\n",
    "    id_to_token = {}\n",
    "    for token in special_tokens:\n",
    "        token_to_id[token] = len(token_to_id)\n",
    "        id_to_token[len(id_to_token)] = token\n",
    "    for token, count in token_count.items():\n",
    "        if count >= cutoff:\n",
    "            if token not in token_to_id:\n",
    "                token_to_id[token] = len(token_to_id)\n",
    "                id_to_token[len(id_to_token)] = token\n",
    "    return token_to_id, id_to_token\n",
    "\n",
    "\n",
    "def token_to_id(token, token_to_id):\n",
    "    return token_to_id.get(token, token_to_id.get('<unk>'))\n",
    "\n",
    "\n",
    "def id_to_token(id, id_to_token):\n",
    "    return id_to_token.get(id, '<unk>')\n",
    "\n",
    "\n",
    "def vocab_size(token_to_id):\n",
    "    return len(token_to_id)\n",
    "\n"
   ],
   "metadata": {
    "id": "LPbKkc-hg3Ab",
    "ExecuteTime": {
     "end_time": "2024-12-11T18:58:34.773750Z",
     "start_time": "2024-12-11T18:58:34.769460Z"
    }
   },
   "outputs": [],
   "execution_count": 5
  },
  {
   "cell_type": "code",
   "source": [
    "# for part d\n",
    "print(len(train_data))\n",
    "token_to_id_dict, id_to_token_dict = build_vocab(train_data, cutoff=5)\n",
    "\n",
    "print(\"Vocab size:\", vocab_size(token_to_id_dict))\n",
    "\n",
    "print(\"ID 0 if for token:\", id_to_token(0, id_to_token_dict))\n",
    "\n",
    "print(\"Token 'quick' corresponds to ID:\", token_to_id('quick', token_to_id_dict))\n",
    "\n"
   ],
   "metadata": {
    "id": "cVNtZRI_gw2P",
    "ExecuteTime": {
     "end_time": "2024-12-11T18:58:38.952617Z",
     "start_time": "2024-12-11T18:58:36.889421Z"
    }
   },
   "outputs": [
    {
     "name": "stdout",
     "output_type": "stream",
     "text": [
      "14041\n",
      "Vocab size: 4917\n",
      "ID 0 if for token: <s>\n",
      "Token 'quick' corresponds to ID: 2387\n"
     ]
    }
   ],
   "execution_count": 6
  },
  {
   "metadata": {},
   "cell_type": "code",
   "outputs": [],
   "execution_count": null,
   "source": ""
  },
  {
   "metadata": {
    "ExecuteTime": {
     "end_time": "2024-12-11T18:58:42.807432Z",
     "start_time": "2024-12-11T18:58:42.799064Z"
    }
   },
   "cell_type": "code",
   "source": [
    "import torch\n",
    "from torch.utils.data import Dataset, DataLoader\n",
    "\n",
    "\n",
    "class NERDataset(Dataset):\n",
    "    def __init__(self, data, token_to_id):\n",
    "        self.data = data\n",
    "        self.token_to_id = token_to_id\n",
    "\n",
    "    def __len__(self):\n",
    "        return len(self.data)\n",
    "\n",
    "    def __getitem__(self, idx):\n",
    "        tokens = self.data[idx]['tokens']\n",
    "        tags = self.data[idx]['ner_tags']\n",
    "        token_ids = [token_to_id(token, self.token_to_id) for token in tokens]\n",
    "        return torch.tensor(token_ids), torch.tensor(tags)\n",
    "\n",
    "\n",
    "def collate_fn(batch):\n",
    "    token_ids, tags = zip(*batch)\n",
    "    lengths = [len(seq) for seq in token_ids]\n",
    "    max_len = max(lengths)\n",
    "    padded_tokens = torch.zeros(len(batch), max_len, dtype=torch.long)\n",
    "    padded_tags = torch.zeros(len(batch), max_len, dtype=torch.long)\n",
    "    for i, (tokens, tag_seq) in enumerate(zip(token_ids, tags)):\n",
    "        padded_tokens[i, :len(tokens)] = tokens\n",
    "        padded_tags[i, :len(tag_seq)] = tag_seq\n",
    "    return padded_tokens, padded_tags, lengths"
   ],
   "outputs": [],
   "execution_count": 7
  },
  {
   "cell_type": "markdown",
   "source": [
    "<div dir=\"rtl\" style=\"font-family: Vazir; width: 85%; font-size: 16px\">\n",
    "\n",
    "*بخش اول:*\n",
    "---\n",
    "پاسح الف:\n",
    "---\n",
    "# پاسخ خود را اینجا بنویسید:\n",
    "---"
   ],
   "metadata": {
    "id": "R5vi1eJVMkCH"
   }
  },
  {
   "metadata": {
    "ExecuteTime": {
     "end_time": "2024-12-07T17:00:54.544044Z",
     "start_time": "2024-12-07T17:00:54.538671Z"
    }
   },
   "cell_type": "code",
   "source": [
    "# part a\n",
    "print(\"\"\"\n",
    "استفاده از collate_fn برای پد کردن جملات در هر مینی‌بچ، مصرف حافظه را کاهش می‌دهد زیرا فقط جملات همان مینی‌بچ به اندازه بزرگترین جمله همان مینی‌بچ پد می‌شوند. این کار باعث افزایش کارایی محاسباتی می‌شود چون پردازش فقط روی توکن‌های ضروری انجام می‌شود و عملیات روی       توکن‌های غیرضروری کاهش می‌یابد. همچنین زمان آموزش را کاهش می‌دهد زیرا حجم داده‌های پردازش شده کمتر است و این باعث می‌شود مدل   سریع‌تر آموزش ببیند. علاوه بر این، انعطاف‌پذیری بیشتری در مدیریت طول جملات فراهم می‌شود و مدل به‌طور موثرتری با جملات طول‌های       مختلف کار می‌کند. به طور کلی، استفاده از collate_fn باعث بهینه‌سازی مصرف منابع و افزایش سرعت و کارایی آموزش مدل می‌شود  .                      \n",
    "\"\"\")"
   ],
   "outputs": [
    {
     "name": "stdout",
     "output_type": "stream",
     "text": [
      "\n",
      "استفاده از collate_fn برای پد کردن جملات در هر مینی‌بچ، مصرف حافظه را کاهش می‌دهد زیرا فقط جملات همان مینی‌بچ به اندازه بزرگترین جمله همان مینی‌بچ پد می‌شوند. این کار باعث افزایش کارایی محاسباتی می‌شود چون پردازش فقط روی توکن‌های ضروری انجام می‌شود و عملیات روی       توکن‌های غیرضروری کاهش می‌یابد. همچنین زمان آموزش را کاهش می‌دهد زیرا حجم داده‌های پردازش شده کمتر است و این باعث می‌شود مدل   سریع‌تر آموزش ببیند. علاوه بر این، انعطاف‌پذیری بیشتری در مدیریت طول جملات فراهم می‌شود و مدل به‌طور موثرتری با جملات طول‌های       مختلف کار می‌کند. به طور کلی، استفاده از collate_fn باعث بهینه‌سازی مصرف منابع و افزایش سرعت و کارایی آموزش مدل می‌شود  .                      \n",
      "\n"
     ]
    }
   ],
   "execution_count": 9
  },
  {
   "cell_type": "code",
   "metadata": {
    "vscode": {
     "languageId": "plaintext"
    },
    "id": "tDGqlfCjMDhR",
    "ExecuteTime": {
     "end_time": "2024-12-11T18:58:45.512882Z",
     "start_time": "2024-12-11T18:58:45.432176Z"
    }
   },
   "source": [
    "# part b\n",
    "train_dataset = NERDataset(train_data, token_to_id_dict)\n",
    "train_loader = DataLoader(train_dataset, batch_size=32, collate_fn=collate_fn)\n",
    "\n",
    "valid_dataset = NERDataset(valid_data, token_to_id_dict)\n",
    "valid_loader = DataLoader(valid_dataset, batch_size=32, collate_fn=collate_fn)\n",
    "\n",
    "for batch in train_loader:\n",
    "    tokens, tags, length = batch\n",
    "    print(\"first batch in train_loader tokens:\", tokens.shape)\n",
    "    print(\"first batch in train_loader tags:\", tags.shape)\n",
    "    break\n",
    "\n",
    "for batch in valid_loader:\n",
    "    tokens, tags, length = batch\n",
    "    print(\"first batch in valid_loader tokens:\", tokens.shape)\n",
    "    print(\"first batch in valid_loader tags:\", tags.shape)\n",
    "    break\n"
   ],
   "outputs": [
    {
     "name": "stdout",
     "output_type": "stream",
     "text": [
      "first batch in train_loader tokens: torch.Size([32, 47])\n",
      "first batch in train_loader tags: torch.Size([32, 47])\n",
      "first batch in valid_loader tokens: torch.Size([32, 41])\n",
      "first batch in valid_loader tags: torch.Size([32, 41])\n"
     ]
    }
   ],
   "execution_count": 8
  },
  {
   "cell_type": "markdown",
   "source": [
    "<div dir=\"rtl\" style=\"font-family: Vazir; width: 85%; font-size: 16px\">\n",
    "\n",
    "*بخش دوم:*\n",
    "---\n",
    "برای قسمت های (الف) تا (ج) این بخش کد را ساختار کد در این بخش بر عهده خود شماست\n",
    "---"
   ],
   "metadata": {
    "id": "QRoCq1MwhkXn"
   }
  },
  {
   "cell_type": "code",
   "source": [
    "# part a\n",
    "import torch\n",
    "import torch.nn as nn\n",
    "import torch.optim as optim\n",
    "import matplotlib.pyplot as plt\n",
    "from sklearn.metrics import classification_report\n",
    "\n",
    "device = torch.device(\"cuda\" if torch.cuda.is_available() else \"cpu\")\n",
    "print(f\"Using device: {device}\")\n",
    "\n",
    "\n",
    "# use this link https://pytorch.org/tutorials/beginner/nlp/advanced_tutorial.html#dynamic-versus-static-deep-learning-toolkits\n",
    "\n",
    "class BiRNNTagger(nn.Module):\n",
    "    def __init__(self, vocab_size, embedding_dim, hidden_dim, tagset_size):\n",
    "        super().__init__()\n",
    "        self.embedding = nn.Embedding(vocab_size, embedding_dim)\n",
    "        self.birnn = nn.RNN(embedding_dim, hidden_dim, bidirectional=True, batch_first=True)\n",
    "        self.hidden2tag = nn.Linear(hidden_dim * 2, tagset_size)\n",
    "\n",
    "    def forward(self, sentences, lengths):\n",
    "        embeds = self.embedding(sentences)\n",
    "        packed_embeds = nn.utils.rnn.pack_padded_sequence(embeds, lengths, batch_first=True, enforce_sorted=False)\n",
    "        packed_output, _ = self.birnn(packed_embeds)\n",
    "        rnn_out, _ = nn.utils.rnn.pad_packed_sequence(packed_output, batch_first=True)\n",
    "        tag_space = self.hidden2tag(rnn_out)\n",
    "        tag_scores = nn.functional.log_softmax(tag_space, dim=2)\n",
    "        return tag_scores\n",
    "\n",
    "\n",
    "EMBEDDING_DIM = 64\n",
    "HIDDEN_DIM = 64\n",
    "TAGSET_SIZE = len(set([tag for tags in train_data['ner_tags'] for tag in tags]))\n",
    "BATCH_SIZE = 32\n",
    "NUM_EPOCHS = 10\n",
    "LEARNING_RATE = 1e-3\n",
    "\n",
    "model = BiRNNTagger(vocab_size=vocab_size(token_to_id_dict), embedding_dim=EMBEDDING_DIM, hidden_dim=HIDDEN_DIM,\n",
    "                    tagset_size=TAGSET_SIZE).to(device)\n",
    "loss_function = nn.NLLLoss(ignore_index=token_to_id('<pad>', token_to_id_dict))\n",
    "optimizer = optim.Adam(model.parameters(), lr=LEARNING_RATE)\n",
    "\n",
    "\n",
    "def calculate_accuracy(preds, tags, pad_token_id):\n",
    "    mask = tags != pad_token_id\n",
    "    preds = preds[mask]\n",
    "    tags = tags[mask]\n",
    "    correct = (preds == tags).sum().item()\n",
    "    total = mask.sum().item()\n",
    "    return correct / total if total != 0 else 0\n",
    "\n",
    "\n",
    "train_losses, valid_losses = [], []\n",
    "train_accuracies, valid_accuracies = [], []\n",
    "\n",
    "for epoch in range(NUM_EPOCHS):\n",
    "    model.train()\n",
    "    total_loss, total_correct, total_tokens = 0, 0, 0\n",
    "\n",
    "    for sentences, tags, lengths in train_loader:\n",
    "        sentences, tags = sentences.to(device), tags.to(device)\n",
    "        model.zero_grad()\n",
    "        tag_scores = model(sentences, lengths)\n",
    "        loss = loss_function(tag_scores.view(-1, TAGSET_SIZE), tags.view(-1))\n",
    "        loss.backward()\n",
    "        optimizer.step()\n",
    "        total_loss += loss.item()\n",
    "        preds = torch.argmax(tag_scores, dim=2)\n",
    "        total_correct += calculate_accuracy(preds, tags, token_to_id('<pad>', token_to_id_dict)) * len(sentences)\n",
    "        total_tokens += len(sentences)\n",
    "\n",
    "    train_loss = total_loss / len(train_loader)\n",
    "    train_accuracy = total_correct / total_tokens\n",
    "    train_losses.append(train_loss)\n",
    "    train_accuracies.append(train_accuracy)\n",
    "\n",
    "    model.eval()\n",
    "    all_preds, all_labels = [], []\n",
    "    total_loss, total_correct, total_tokens = 0, 0, 0\n",
    "\n",
    "    with torch.no_grad():\n",
    "        for sentences, tags, lengths in valid_loader:\n",
    "            sentences, tags = sentences.to(device), tags.to(device)\n",
    "            tag_scores = model(sentences, lengths)\n",
    "            loss = loss_function(tag_scores.view(-1, TAGSET_SIZE), tags.view(-1))\n",
    "            total_loss += loss.item()\n",
    "            preds = torch.argmax(tag_scores, dim=2)\n",
    "            total_correct += calculate_accuracy(preds, tags, token_to_id('<pad>', token_to_id_dict)) * len(sentences)\n",
    "            total_tokens += len(sentences)\n",
    "\n",
    "            all_preds.extend(preds.view(-1).cpu().numpy())\n",
    "            all_labels.extend(tags.view(-1).cpu().numpy())\n",
    "\n",
    "    report = classification_report(all_labels, all_preds, zero_division=0)\n",
    "    print(report)\n",
    "\n",
    "    valid_loss = total_loss / len(valid_loader)\n",
    "    valid_accuracy = total_correct / total_tokens\n",
    "    valid_losses.append(valid_loss)\n",
    "    valid_accuracies.append(valid_accuracy)\n",
    "\n",
    "    print(\n",
    "        f'Epoch {epoch + 1}/{NUM_EPOCHS}, Train Loss: {train_loss:.4f}, Train Accuracy: {train_accuracy:.4f}, Validation Loss: {valid_loss:.4f}, Validation Accuracy: {valid_accuracy:.4f}')\n",
    "\n",
    "plt.figure(figsize=(12, 4))\n",
    "plt.subplot(1, 2, 1)\n",
    "plt.plot(train_losses, label='Training Loss')\n",
    "plt.plot(valid_losses, label='Validation Loss')\n",
    "plt.legend()\n",
    "plt.title('Loss')\n",
    "\n",
    "plt.subplot(1, 2, 2)\n",
    "plt.plot(train_accuracies, label='Training Accuracy')\n",
    "plt.plot(valid_accuracies, label='Validation Accuracy')\n",
    "plt.legend()\n",
    "plt.title('Accuracy')\n",
    "\n",
    "plt.show()\n"
   ],
   "metadata": {
    "id": "dU2_SIYPm59-",
    "ExecuteTime": {
     "end_time": "2024-12-09T18:08:51.591242Z",
     "start_time": "2024-12-09T18:06:05.087109Z"
    }
   },
   "outputs": [
    {
     "name": "stdout",
     "output_type": "stream",
     "text": [
      "Using device: cpu\n",
      "              precision    recall  f1-score   support\n",
      "\n",
      "           0       0.94      1.00      0.97    119773\n",
      "           1       1.00      0.00      0.01      1842\n",
      "           2       0.00      0.00      0.00      1307\n",
      "           3       0.61      0.03      0.05      1341\n",
      "           4       0.00      0.00      0.00       751\n",
      "           5       0.77      0.22      0.34      1837\n",
      "           6       0.00      0.00      0.00       257\n",
      "           7       0.00      0.00      0.00       922\n",
      "           8       0.00      0.00      0.00       346\n",
      "\n",
      "    accuracy                           0.94    128376\n",
      "   macro avg       0.37      0.14      0.15    128376\n",
      "weighted avg       0.91      0.94      0.91    128376\n",
      "\n",
      "Epoch 1/10, Train Loss: 1.3996, Train Accuracy: 0.8387, Validation Loss: 1.1319, Validation Accuracy: 0.9344\n",
      "              precision    recall  f1-score   support\n",
      "\n",
      "           0       0.95      1.00      0.98    119773\n",
      "           1       0.80      0.29      0.42      1842\n",
      "           2       0.00      0.00      0.00      1307\n",
      "           3       0.60      0.30      0.40      1341\n",
      "           4       0.53      0.20      0.29       751\n",
      "           5       0.77      0.43      0.55      1837\n",
      "           6       0.80      0.11      0.19       257\n",
      "           7       0.58      0.18      0.27       922\n",
      "           8       0.91      0.09      0.16       346\n",
      "\n",
      "    accuracy                           0.95    128376\n",
      "   macro avg       0.66      0.29      0.36    128376\n",
      "weighted avg       0.93      0.95      0.93    128376\n",
      "\n",
      "Epoch 2/10, Train Loss: 0.9331, Train Accuracy: 0.9444, Validation Loss: 0.7483, Validation Accuracy: 0.9558\n",
      "              precision    recall  f1-score   support\n",
      "\n",
      "           0       0.97      1.00      0.98    119773\n",
      "           1       0.80      0.43      0.56      1842\n",
      "           2       0.00      0.00      0.00      1307\n",
      "           3       0.69      0.48      0.56      1341\n",
      "           4       0.53      0.49      0.51       751\n",
      "           5       0.83      0.59      0.69      1837\n",
      "           6       0.70      0.31      0.43       257\n",
      "           7       0.74      0.47      0.57       922\n",
      "           8       0.91      0.28      0.43       346\n",
      "\n",
      "    accuracy                           0.96    128376\n",
      "   macro avg       0.69      0.45      0.53    128376\n",
      "weighted avg       0.95      0.96      0.95    128376\n",
      "\n",
      "Epoch 3/10, Train Loss: 0.6050, Train Accuracy: 0.9643, Validation Loss: 0.4918, Validation Accuracy: 0.9687\n",
      "              precision    recall  f1-score   support\n",
      "\n",
      "           0       0.97      1.00      0.99    119773\n",
      "           1       0.79      0.51      0.62      1842\n",
      "           2       0.00      0.00      0.00      1307\n",
      "           3       0.72      0.55      0.63      1341\n",
      "           4       0.59      0.61      0.60       751\n",
      "           5       0.86      0.68      0.76      1837\n",
      "           6       0.78      0.48      0.59       257\n",
      "           7       0.81      0.57      0.67       922\n",
      "           8       0.88      0.39      0.54       346\n",
      "\n",
      "    accuracy                           0.96    128376\n",
      "   macro avg       0.71      0.53      0.60    128376\n",
      "weighted avg       0.95      0.96      0.96    128376\n",
      "\n",
      "Epoch 4/10, Train Loss: 0.3975, Train Accuracy: 0.9747, Validation Loss: 0.3363, Validation Accuracy: 0.9745\n",
      "              precision    recall  f1-score   support\n",
      "\n",
      "           0       0.98      1.00      0.99    119773\n",
      "           1       0.77      0.55      0.64      1842\n",
      "           2       0.00      0.00      0.00      1307\n",
      "           3       0.74      0.61      0.67      1341\n",
      "           4       0.62      0.66      0.64       751\n",
      "           5       0.88      0.72      0.79      1837\n",
      "           6       0.81      0.54      0.65       257\n",
      "           7       0.85      0.62      0.72       922\n",
      "           8       0.89      0.49      0.63       346\n",
      "\n",
      "    accuracy                           0.97    128376\n",
      "   macro avg       0.73      0.58      0.64    128376\n",
      "weighted avg       0.96      0.97      0.96    128376\n",
      "\n",
      "Epoch 5/10, Train Loss: 0.2719, Train Accuracy: 0.9805, Validation Loss: 0.2430, Validation Accuracy: 0.9773\n",
      "              precision    recall  f1-score   support\n",
      "\n",
      "           0       0.98      1.00      0.99    119773\n",
      "           1       0.77      0.58      0.66      1842\n",
      "           2       0.00      0.00      0.00      1307\n",
      "           3       0.74      0.66      0.70      1341\n",
      "           4       0.63      0.71      0.67       751\n",
      "           5       0.90      0.74      0.81      1837\n",
      "           6       0.84      0.60      0.70       257\n",
      "           7       0.88      0.64      0.74       922\n",
      "           8       0.86      0.54      0.66       346\n",
      "\n",
      "    accuracy                           0.97    128376\n",
      "   macro avg       0.73      0.61      0.66    128376\n",
      "weighted avg       0.96      0.97      0.96    128376\n",
      "\n",
      "Epoch 6/10, Train Loss: 0.1946, Train Accuracy: 0.9842, Validation Loss: 0.1853, Validation Accuracy: 0.9794\n",
      "              precision    recall  f1-score   support\n",
      "\n",
      "           0       0.98      1.00      0.99    119773\n",
      "           1       0.74      0.61      0.67      1842\n",
      "           2       0.00      0.00      0.00      1307\n",
      "           3       0.75      0.68      0.72      1341\n",
      "           4       0.62      0.74      0.67       751\n",
      "           5       0.91      0.76      0.83      1837\n",
      "           6       0.85      0.62      0.71       257\n",
      "           7       0.88      0.68      0.77       922\n",
      "           8       0.84      0.55      0.67       346\n",
      "\n",
      "    accuracy                           0.97    128376\n",
      "   macro avg       0.73      0.63      0.67    128376\n",
      "weighted avg       0.96      0.97      0.96    128376\n",
      "\n",
      "Epoch 7/10, Train Loss: 0.1450, Train Accuracy: 0.9866, Validation Loss: 0.1482, Validation Accuracy: 0.9806\n",
      "              precision    recall  f1-score   support\n",
      "\n",
      "           0       0.98      1.00      0.99    119773\n",
      "           1       0.73      0.63      0.68      1842\n",
      "           2       0.00      0.00      0.00      1307\n",
      "           3       0.76      0.70      0.73      1341\n",
      "           4       0.62      0.75      0.68       751\n",
      "           5       0.91      0.77      0.83      1837\n",
      "           6       0.85      0.66      0.74       257\n",
      "           7       0.88      0.70      0.78       922\n",
      "           8       0.84      0.56      0.67       346\n",
      "\n",
      "    accuracy                           0.97    128376\n",
      "   macro avg       0.73      0.64      0.68    128376\n",
      "weighted avg       0.96      0.97      0.97    128376\n",
      "\n",
      "Epoch 8/10, Train Loss: 0.1116, Train Accuracy: 0.9884, Validation Loss: 0.1235, Validation Accuracy: 0.9817\n",
      "              precision    recall  f1-score   support\n",
      "\n",
      "           0       0.98      1.00      0.99    119773\n",
      "           1       0.72      0.65      0.68      1842\n",
      "           2       0.00      0.00      0.00      1307\n",
      "           3       0.76      0.71      0.73      1341\n",
      "           4       0.63      0.77      0.69       751\n",
      "           5       0.91      0.78      0.84      1837\n",
      "           6       0.87      0.68      0.76       257\n",
      "           7       0.88      0.71      0.78       922\n",
      "           8       0.83      0.57      0.67       346\n",
      "\n",
      "    accuracy                           0.97    128376\n",
      "   macro avg       0.73      0.65      0.68    128376\n",
      "weighted avg       0.96      0.97      0.97    128376\n",
      "\n",
      "Epoch 9/10, Train Loss: 0.0880, Train Accuracy: 0.9900, Validation Loss: 0.1069, Validation Accuracy: 0.9822\n",
      "              precision    recall  f1-score   support\n",
      "\n",
      "           0       0.98      1.00      0.99    119773\n",
      "           1       0.72      0.67      0.69      1842\n",
      "           2       0.00      0.00      0.00      1307\n",
      "           3       0.77      0.72      0.74      1341\n",
      "           4       0.62      0.78      0.69       751\n",
      "           5       0.91      0.79      0.84      1837\n",
      "           6       0.87      0.69      0.77       257\n",
      "           7       0.88      0.72      0.79       922\n",
      "           8       0.82      0.59      0.69       346\n",
      "\n",
      "    accuracy                           0.97    128376\n",
      "   macro avg       0.73      0.66      0.69    128376\n",
      "weighted avg       0.96      0.97      0.97    128376\n",
      "\n",
      "Epoch 10/10, Train Loss: 0.0706, Train Accuracy: 0.9914, Validation Loss: 0.0955, Validation Accuracy: 0.9830\n"
     ]
    },
    {
     "data": {
      "text/plain": [
       "<Figure size 1200x400 with 2 Axes>"
      ],
      "image/png": "[encoded data removed]"
     },
     "metadata": {},
     "output_type": "display_data"
    }
   ],
   "execution_count": 47
  },
  {
   "metadata": {
    "ExecuteTime": {
     "end_time": "2024-12-09T18:26:13.665790Z",
     "start_time": "2024-12-09T18:23:23.072724Z"
    }
   },
   "cell_type": "code",
   "source": [
    "# part b with BiLST\n",
    "import torch\n",
    "import torch.nn as nn\n",
    "import torch.optim as optim\n",
    "from sklearn.metrics import classification_report\n",
    "import matplotlib.pyplot as plt\n",
    "\n",
    "\n",
    "class BiLSTMTagger(nn.Module):\n",
    "    def __init__(self, vocab_size, embedding_dim, hidden_dim, tagset_size):\n",
    "        super(BiLSTMTagger, self).__init__()\n",
    "        self.embedding = nn.Embedding(vocab_size, embedding_dim)\n",
    "        self.bilstm = nn.LSTM(embedding_dim, hidden_dim, bidirectional=True, batch_first=True)\n",
    "        self.hidden2tag = nn.Linear(hidden_dim * 2, tagset_size)\n",
    "\n",
    "    def forward(self, sentences, lengths):\n",
    "        embeds = self.embedding(sentences)\n",
    "        packed_embeds = nn.utils.rnn.pack_padded_sequence(embeds, lengths, batch_first=True, enforce_sorted=False)\n",
    "        packed_output, _ = self.bilstm(packed_embeds)\n",
    "        rnn_out, _ = nn.utils.rnn.pad_packed_sequence(packed_output, batch_first=True)\n",
    "        tag_space = self.hidden2tag(rnn_out)\n",
    "        tag_scores = nn.functional.log_softmax(tag_space, dim=2)\n",
    "        return tag_scores\n",
    "\n",
    "\n",
    "model = BiLSTMTagger(vocab_size=vocab_size(token_to_id_dict), embedding_dim=EMBEDDING_DIM, hidden_dim=HIDDEN_DIM,\n",
    "                     tagset_size=TAGSET_SIZE)\n",
    "loss_function = nn.NLLLoss(\n",
    "    ignore_index=token_to_id('<pad>', token_to_id_dict))\n",
    "optimizer = optim.Adam(model.parameters(), lr=LEARNING_RATE)\n",
    "\n",
    "for epoch in range(NUM_EPOCHS):\n",
    "    model.train()\n",
    "    total_loss, total_correct, total_tokens = 0, 0, 0\n",
    "\n",
    "    for sentences, tags, lengths in train_loader:\n",
    "        model.zero_grad()\n",
    "        tag_scores = model(sentences, lengths)\n",
    "        loss = loss_function(tag_scores.view(-1, TAGSET_SIZE), tags.view(-1))\n",
    "        loss.backward()\n",
    "        optimizer.step()\n",
    "\n",
    "        total_loss += loss.item()\n",
    "\n",
    "        preds = torch.argmax(tag_scores, dim=2)\n",
    "        total_correct += calculate_accuracy(preds, tags, token_to_id('<pad>', token_to_id_dict)) * len(sentences)\n",
    "        total_tokens += len(sentences)\n",
    "    train_loss = total_loss / len(train_loader)\n",
    "    train_accuracy = total_correct / total_tokens\n",
    "    train_losses.append(train_loss)\n",
    "    train_accuracies.append(train_accuracy)\n",
    "\n",
    "    model.eval()\n",
    "    all_preds, all_labels = [], []\n",
    "    total_loss, total_correct, total_tokens = 0, 0, 0\n",
    "\n",
    "    with torch.no_grad():\n",
    "        for sentences, tags, lengths in valid_loader:\n",
    "            tag_scores = model(sentences, lengths)\n",
    "            loss = loss_function(tag_scores.view(-1, TAGSET_SIZE), tags.view(-1))\n",
    "            total_loss += loss.item()\n",
    "            preds = torch.argmax(tag_scores, dim=2)\n",
    "\n",
    "            total_correct += calculate_accuracy(preds, tags, token_to_id('<pad>', token_to_id_dict)) * len(sentences)\n",
    "            total_tokens += len(sentences)\n",
    "\n",
    "            all_preds.extend(preds.view(-1).cpu().numpy())\n",
    "            all_labels.extend(tags.view(-1).cpu().numpy())\n",
    "\n",
    "    report = classification_report(all_labels, all_preds, zero_division=0)\n",
    "    print(report)\n",
    "    valid_loss = total_loss / len(valid_loader)\n",
    "    valid_accuracy = total_correct / total_tokens\n",
    "    valid_losses.append(valid_loss)\n",
    "    valid_accuracies.append(valid_accuracy)\n",
    "\n",
    "    print(\n",
    "        f'Epoch {epoch + 1}/{NUM_EPOCHS}, Train Loss: {train_loss:.4f}, Train Accuracy: {train_accuracy:.4f}, Validation Loss: {valid_loss:.4f}, Validation Accuracy: {valid_accuracy:.4f}')\n",
    "\n",
    "plt.figure(figsize=(12, 4))\n",
    "plt.subplot(1, 2, 1)\n",
    "plt.plot(train_losses, label='Training Loss')\n",
    "plt.plot(valid_losses, label='Validation Loss')\n",
    "plt.legend()\n",
    "plt.title('Loss')\n",
    "\n",
    "plt.subplot(1, 2, 2)\n",
    "plt.plot(train_accuracies, label='Training Accuracy')\n",
    "plt.plot(valid_accuracies, label='Validation Accuracy')\n",
    "plt.legend()\n",
    "plt.title('Accuracy')\n",
    "\n",
    "plt.show()"
   ],
   "outputs": [
    {
     "name": "stdout",
     "output_type": "stream",
     "text": [
      "              precision    recall  f1-score   support\n",
      "\n",
      "           0       0.94      1.00      0.97    119773\n",
      "           1       0.41      0.01      0.01      1842\n",
      "           2       0.00      0.00      0.00      1307\n",
      "           3       0.68      0.02      0.04      1341\n",
      "           4       0.00      0.00      0.00       751\n",
      "           5       0.80      0.22      0.34      1837\n",
      "           6       0.00      0.00      0.00       257\n",
      "           7       0.50      0.00      0.00       922\n",
      "           8       0.00      0.00      0.00       346\n",
      "\n",
      "    accuracy                           0.94    128376\n",
      "   macro avg       0.37      0.14      0.15    128376\n",
      "weighted avg       0.90      0.94      0.91    128376\n",
      "\n",
      "Epoch 1/10, Train Loss: 1.3895, Train Accuracy: 0.8678, Validation Loss: 1.1184, Validation Accuracy: 0.9342\n",
      "              precision    recall  f1-score   support\n",
      "\n",
      "           0       0.96      1.00      0.98    119773\n",
      "           1       0.83      0.27      0.40      1842\n",
      "           2       0.00      0.00      0.00      1307\n",
      "           3       0.69      0.30      0.41      1341\n",
      "           4       0.50      0.22      0.31       751\n",
      "           5       0.72      0.52      0.60      1837\n",
      "           6       0.87      0.16      0.26       257\n",
      "           7       0.74      0.24      0.36       922\n",
      "           8       0.93      0.15      0.26       346\n",
      "\n",
      "    accuracy                           0.95    128376\n",
      "   macro avg       0.69      0.32      0.40    128376\n",
      "weighted avg       0.93      0.95      0.94    128376\n",
      "\n",
      "Epoch 2/10, Train Loss: 0.9216, Train Accuracy: 0.9452, Validation Loss: 0.7345, Validation Accuracy: 0.9581\n",
      "              precision    recall  f1-score   support\n",
      "\n",
      "           0       0.97      1.00      0.98    119773\n",
      "           1       0.82      0.43      0.56      1842\n",
      "           2       0.00      0.00      0.00      1307\n",
      "           3       0.73      0.44      0.55      1341\n",
      "           4       0.54      0.51      0.53       751\n",
      "           5       0.78      0.64      0.70      1837\n",
      "           6       0.77      0.39      0.52       257\n",
      "           7       0.80      0.48      0.60       922\n",
      "           8       0.92      0.36      0.52       346\n",
      "\n",
      "    accuracy                           0.96    128376\n",
      "   macro avg       0.70      0.47      0.55    128376\n",
      "weighted avg       0.95      0.96      0.95    128376\n",
      "\n",
      "Epoch 3/10, Train Loss: 0.5971, Train Accuracy: 0.9649, Validation Loss: 0.4841, Validation Accuracy: 0.9696\n",
      "              precision    recall  f1-score   support\n",
      "\n",
      "           0       0.97      1.00      0.99    119773\n",
      "           1       0.81      0.53      0.64      1842\n",
      "           2       0.00      0.00      0.00      1307\n",
      "           3       0.76      0.54      0.63      1341\n",
      "           4       0.59      0.59      0.59       751\n",
      "           5       0.82      0.70      0.76      1837\n",
      "           6       0.71      0.54      0.62       257\n",
      "           7       0.85      0.60      0.70       922\n",
      "           8       0.90      0.44      0.59       346\n",
      "\n",
      "    accuracy                           0.97    128376\n",
      "   macro avg       0.71      0.55      0.61    128376\n",
      "weighted avg       0.95      0.97      0.96    128376\n",
      "\n",
      "Epoch 4/10, Train Loss: 0.3936, Train Accuracy: 0.9747, Validation Loss: 0.3329, Validation Accuracy: 0.9751\n",
      "              precision    recall  f1-score   support\n",
      "\n",
      "           0       0.98      1.00      0.99    119773\n",
      "           1       0.80      0.58      0.67      1842\n",
      "           2       0.00      0.00      0.00      1307\n",
      "           3       0.77      0.60      0.67      1341\n",
      "           4       0.61      0.66      0.63       751\n",
      "           5       0.86      0.73      0.79      1837\n",
      "           6       0.66      0.58      0.62       257\n",
      "           7       0.88      0.65      0.75       922\n",
      "           8       0.89      0.49      0.63       346\n",
      "\n",
      "    accuracy                           0.97    128376\n",
      "   macro avg       0.72      0.59      0.64    128376\n",
      "weighted avg       0.96      0.97      0.96    128376\n",
      "\n",
      "Epoch 5/10, Train Loss: 0.2700, Train Accuracy: 0.9801, Validation Loss: 0.2414, Validation Accuracy: 0.9778\n",
      "              precision    recall  f1-score   support\n",
      "\n",
      "           0       0.98      1.00      0.99    119773\n",
      "           1       0.78      0.61      0.68      1842\n",
      "           2       0.00      0.00      0.00      1307\n",
      "           3       0.78      0.63      0.70      1341\n",
      "           4       0.62      0.69      0.66       751\n",
      "           5       0.88      0.75      0.81      1837\n",
      "           6       0.70      0.62      0.66       257\n",
      "           7       0.88      0.68      0.77       922\n",
      "           8       0.87      0.51      0.64       346\n",
      "\n",
      "    accuracy                           0.97    128376\n",
      "   macro avg       0.72      0.61      0.66    128376\n",
      "weighted avg       0.96      0.97      0.96    128376\n",
      "\n",
      "Epoch 6/10, Train Loss: 0.1937, Train Accuracy: 0.9836, Validation Loss: 0.1845, Validation Accuracy: 0.9796\n",
      "              precision    recall  f1-score   support\n",
      "\n",
      "           0       0.98      1.00      0.99    119773\n",
      "           1       0.76      0.64      0.69      1842\n",
      "           2       0.00      0.00      0.00      1307\n",
      "           3       0.80      0.66      0.72      1341\n",
      "           4       0.63      0.72      0.67       751\n",
      "           5       0.89      0.77      0.83      1837\n",
      "           6       0.71      0.64      0.67       257\n",
      "           7       0.89      0.69      0.78       922\n",
      "           8       0.87      0.52      0.65       346\n",
      "\n",
      "    accuracy                           0.97    128376\n",
      "   macro avg       0.73      0.63      0.67    128376\n",
      "weighted avg       0.96      0.97      0.96    128376\n",
      "\n",
      "Epoch 7/10, Train Loss: 0.1442, Train Accuracy: 0.9863, Validation Loss: 0.1480, Validation Accuracy: 0.9807\n",
      "              precision    recall  f1-score   support\n",
      "\n",
      "           0       0.98      1.00      0.99    119773\n",
      "           1       0.75      0.66      0.70      1842\n",
      "           2       0.00      0.00      0.00      1307\n",
      "           3       0.79      0.68      0.73      1341\n",
      "           4       0.64      0.74      0.69       751\n",
      "           5       0.90      0.78      0.83      1837\n",
      "           6       0.71      0.66      0.68       257\n",
      "           7       0.89      0.70      0.78       922\n",
      "           8       0.84      0.53      0.65       346\n",
      "\n",
      "    accuracy                           0.97    128376\n",
      "   macro avg       0.72      0.64      0.67    128376\n",
      "weighted avg       0.96      0.97      0.97    128376\n",
      "\n",
      "Epoch 8/10, Train Loss: 0.1109, Train Accuracy: 0.9883, Validation Loss: 0.1238, Validation Accuracy: 0.9815\n",
      "              precision    recall  f1-score   support\n",
      "\n",
      "           0       0.98      1.00      0.99    119773\n",
      "           1       0.74      0.67      0.70      1842\n",
      "           2       0.00      0.00      0.00      1307\n",
      "           3       0.78      0.69      0.73      1341\n",
      "           4       0.63      0.75      0.69       751\n",
      "           5       0.91      0.78      0.84      1837\n",
      "           6       0.72      0.70      0.71       257\n",
      "           7       0.89      0.70      0.79       922\n",
      "           8       0.85      0.54      0.66       346\n",
      "\n",
      "    accuracy                           0.97    128376\n",
      "   macro avg       0.72      0.65      0.68    128376\n",
      "weighted avg       0.96      0.97      0.97    128376\n",
      "\n",
      "Epoch 9/10, Train Loss: 0.0872, Train Accuracy: 0.9899, Validation Loss: 0.1077, Validation Accuracy: 0.9820\n",
      "              precision    recall  f1-score   support\n",
      "\n",
      "           0       0.98      1.00      0.99    119773\n",
      "           1       0.74      0.69      0.71      1842\n",
      "           2       0.00      0.00      0.00      1307\n",
      "           3       0.76      0.70      0.73      1341\n",
      "           4       0.61      0.77      0.68       751\n",
      "           5       0.91      0.79      0.85      1837\n",
      "           6       0.74      0.70      0.72       257\n",
      "           7       0.90      0.71      0.79       922\n",
      "           8       0.84      0.55      0.67       346\n",
      "\n",
      "    accuracy                           0.97    128376\n",
      "   macro avg       0.72      0.66      0.68    128376\n",
      "weighted avg       0.96      0.97      0.97    128376\n",
      "\n",
      "Epoch 10/10, Train Loss: 0.0699, Train Accuracy: 0.9914, Validation Loss: 0.0968, Validation Accuracy: 0.9825\n"
     ]
    },
    {
     "data": {
      "text/plain": [
       "<Figure size 1200x400 with 2 Axes>"
      ],
      "image/png": "[encoded data removed]"
     },
     "metadata": {},
     "output_type": "display_data"
    }
   ],
   "execution_count": 53
  },
  {
   "metadata": {
    "ExecuteTime": {
     "end_time": "2024-12-09T18:29:21.235844Z",
     "start_time": "2024-12-09T18:26:37.546949Z"
    }
   },
   "cell_type": "code",
   "source": [
    "# part c with BiGRU\n",
    "import torch\n",
    "import torch.nn as nn\n",
    "import torch.optim as optim\n",
    "from sklearn.metrics import classification_report\n",
    "import matplotlib.pyplot as plt\n",
    "\n",
    "\n",
    "class BiGRUTagger(nn.Module):\n",
    "    def __init__(self, vocab_size, embedding_dim, hidden_dim, tagset_size):\n",
    "        super(BiGRUTagger, self).__init__()\n",
    "        self.embedding = nn.Embedding(vocab_size, embedding_dim)\n",
    "        self.bigru = nn.GRU(embedding_dim, hidden_dim, bidirectional=True, batch_first=True)\n",
    "        self.hidden2tag = nn.Linear(hidden_dim * 2, tagset_size)\n",
    "\n",
    "    def forward(self, sentences, lengths):\n",
    "        embeds = self.embedding(sentences)\n",
    "        packed_embeds = nn.utils.rnn.pack_padded_sequence(embeds, lengths, batch_first=True, enforce_sorted=False)\n",
    "        packed_output, _ = self.bigru(packed_embeds)\n",
    "        rnn_out, _ = nn.utils.rnn.pad_packed_sequence(packed_output, batch_first=True)\n",
    "        tag_space = self.hidden2tag(rnn_out)\n",
    "        tag_scores = nn.functional.log_softmax(tag_space, dim=2)\n",
    "        return tag_scores\n",
    "\n",
    "\n",
    "model = BiGRUTagger(vocab_size=vocab_size(token_to_id_dict), embedding_dim=EMBEDDING_DIM, hidden_dim=HIDDEN_DIM,\n",
    "                    tagset_size=TAGSET_SIZE)\n",
    "loss_function = nn.NLLLoss(\n",
    "    ignore_index=token_to_id('<pad>', token_to_id_dict))\n",
    "optimizer = optim.Adam(model.parameters(), lr=LEARNING_RATE)\n",
    "\n",
    "for epoch in range(NUM_EPOCHS):\n",
    "    model.train()\n",
    "    total_loss, total_correct, total_tokens = 0, 0, 0\n",
    "\n",
    "    for sentences, tags, lengths in train_loader:\n",
    "        model.zero_grad()\n",
    "        tag_scores = model(sentences, lengths)\n",
    "        loss = loss_function(tag_scores.view(-1, TAGSET_SIZE), tags.view(-1))\n",
    "        loss.backward()\n",
    "        optimizer.step()\n",
    "\n",
    "        total_loss += loss.item()\n",
    "\n",
    "        preds = torch.argmax(tag_scores, dim=2)\n",
    "        total_correct += calculate_accuracy(preds, tags, token_to_id('<pad>', token_to_id_dict)) * len(sentences)\n",
    "        total_tokens += len(sentences)\n",
    "\n",
    "    train_loss = total_loss / len(train_loader)\n",
    "    train_accuracy = total_correct / total_tokens\n",
    "    train_losses.append(train_loss)\n",
    "    train_accuracies.append(train_accuracy)\n",
    "\n",
    "    model.eval()\n",
    "    all_labels, all_preds = [], []\n",
    "    total_loss, total_correct, total_tokens = 0, 0, 0\n",
    "\n",
    "    with torch.no_grad():\n",
    "        for sentences, tags, lengths in valid_loader:\n",
    "            tag_scores = model(sentences, lengths)\n",
    "            loss = loss_function(tag_scores.view(-1, TAGSET_SIZE), tags.view(-1))\n",
    "            total_loss += loss.item()\n",
    "            preds = torch.argmax(tag_scores, dim=2)\n",
    "\n",
    "            total_correct += calculate_accuracy(preds, tags, token_to_id('<pad>', token_to_id_dict)) * len(sentences)\n",
    "            total_tokens += len(sentences)\n",
    "\n",
    "            all_preds.extend(preds.view(-1).cpu().numpy())\n",
    "            all_labels.extend(tags.view(-1).cpu().numpy())\n",
    "    report = classification_report(all_labels, all_preds, zero_division=0)\n",
    "    print(report)\n",
    "    valid_loss = total_loss / len(valid_loader)\n",
    "    valid_accuracy = total_correct / total_tokens\n",
    "    valid_losses.append(valid_loss)\n",
    "    valid_accuracies.append(valid_accuracy)\n",
    "\n",
    "    print(\n",
    "        f'Epoch {epoch + 1}/{NUM_EPOCHS}, Train Loss: {train_loss:.4f}, Train Accuracy: {train_accuracy:.4f}, Validation Loss: {valid_loss:.4f}, Validation Accuracy: {valid_accuracy:.4f}')\n",
    "\n",
    "plt.figure(figsize=(12, 4))\n",
    "plt.subplot(1, 2, 1)\n",
    "plt.plot(train_losses, label='Training Loss')\n",
    "plt.plot(valid_losses, label='Validation Loss')\n",
    "plt.legend()\n",
    "plt.title('Loss')\n",
    "\n",
    "plt.subplot(1, 2, 2)\n",
    "plt.plot(train_accuracies, label='Training Accuracy')\n",
    "plt.plot(valid_accuracies, label='Validation Accuracy')\n",
    "plt.legend()\n",
    "plt.title('Accuracy')\n",
    "\n",
    "plt.show()"
   ],
   "outputs": [
    {
     "name": "stdout",
     "output_type": "stream",
     "text": [
      "              precision    recall  f1-score   support\n",
      "\n",
      "           0       0.94      1.00      0.97    119773\n",
      "           1       0.83      0.14      0.24      1842\n",
      "           2       0.00      0.00      0.00      1307\n",
      "           3       0.70      0.05      0.10      1341\n",
      "           4       0.00      0.00      0.00       751\n",
      "           5       0.75      0.28      0.41      1837\n",
      "           6       0.00      0.00      0.00       257\n",
      "           7       0.67      0.06      0.10       922\n",
      "           8       0.94      0.05      0.09       346\n",
      "\n",
      "    accuracy                           0.94    128376\n",
      "   macro avg       0.54      0.18      0.21    128376\n",
      "weighted avg       0.92      0.94      0.92    128376\n",
      "\n",
      "Epoch 1/10, Train Loss: 1.3800, Train Accuracy: 0.8629, Validation Loss: 1.1069, Validation Accuracy: 0.9416\n",
      "              precision    recall  f1-score   support\n",
      "\n",
      "           0       0.96      1.00      0.98    119773\n",
      "           1       0.85      0.36      0.50      1842\n",
      "           2       0.00      0.00      0.00      1307\n",
      "           3       0.75      0.32      0.45      1341\n",
      "           4       0.65      0.27      0.38       751\n",
      "           5       0.77      0.53      0.63      1837\n",
      "           6       0.82      0.31      0.45       257\n",
      "           7       0.75      0.33      0.46       922\n",
      "           8       0.89      0.21      0.34       346\n",
      "\n",
      "    accuracy                           0.95    128376\n",
      "   macro avg       0.72      0.37      0.47    128376\n",
      "weighted avg       0.94      0.95      0.94    128376\n",
      "\n",
      "Epoch 2/10, Train Loss: 0.9094, Train Accuracy: 0.9513, Validation Loss: 0.7296, Validation Accuracy: 0.9614\n",
      "              precision    recall  f1-score   support\n",
      "\n",
      "           0       0.97      1.00      0.98    119773\n",
      "           1       0.82      0.48      0.60      1842\n",
      "           2       0.00      0.00      0.00      1307\n",
      "           3       0.74      0.49      0.59      1341\n",
      "           4       0.60      0.49      0.54       751\n",
      "           5       0.82      0.63      0.71      1837\n",
      "           6       0.85      0.51      0.64       257\n",
      "           7       0.79      0.47      0.59       922\n",
      "           8       0.91      0.36      0.52       346\n",
      "\n",
      "    accuracy                           0.96    128376\n",
      "   macro avg       0.72      0.49      0.57    128376\n",
      "weighted avg       0.95      0.96      0.95    128376\n",
      "\n",
      "Epoch 3/10, Train Loss: 0.5895, Train Accuracy: 0.9682, Validation Loss: 0.4817, Validation Accuracy: 0.9709\n",
      "              precision    recall  f1-score   support\n",
      "\n",
      "           0       0.97      1.00      0.99    119773\n",
      "           1       0.79      0.55      0.65      1842\n",
      "           2       0.00      0.00      0.00      1307\n",
      "           3       0.75      0.58      0.65      1341\n",
      "           4       0.59      0.60      0.59       751\n",
      "           5       0.85      0.68      0.76      1837\n",
      "           6       0.87      0.59      0.70       257\n",
      "           7       0.81      0.57      0.67       922\n",
      "           8       0.87      0.43      0.58       346\n",
      "\n",
      "    accuracy                           0.97    128376\n",
      "   macro avg       0.72      0.56      0.62    128376\n",
      "weighted avg       0.95      0.97      0.96    128376\n",
      "\n",
      "Epoch 4/10, Train Loss: 0.3882, Train Accuracy: 0.9768, Validation Loss: 0.3304, Validation Accuracy: 0.9756\n",
      "              precision    recall  f1-score   support\n",
      "\n",
      "           0       0.98      1.00      0.99    119773\n",
      "           1       0.77      0.59      0.67      1842\n",
      "           2       0.00      0.00      0.00      1307\n",
      "           3       0.76      0.63      0.69      1341\n",
      "           4       0.58      0.66      0.62       751\n",
      "           5       0.87      0.72      0.79      1837\n",
      "           6       0.85      0.63      0.72       257\n",
      "           7       0.84      0.64      0.73       922\n",
      "           8       0.85      0.48      0.61       346\n",
      "\n",
      "    accuracy                           0.97    128376\n",
      "   macro avg       0.72      0.59      0.65    128376\n",
      "weighted avg       0.96      0.97      0.96    128376\n",
      "\n",
      "Epoch 5/10, Train Loss: 0.2653, Train Accuracy: 0.9817, Validation Loss: 0.2391, Validation Accuracy: 0.9785\n",
      "              precision    recall  f1-score   support\n",
      "\n",
      "           0       0.98      1.00      0.99    119773\n",
      "           1       0.76      0.63      0.69      1842\n",
      "           2       0.00      0.00      0.00      1307\n",
      "           3       0.77      0.66      0.71      1341\n",
      "           4       0.58      0.70      0.63       751\n",
      "           5       0.88      0.75      0.81      1837\n",
      "           6       0.86      0.66      0.75       257\n",
      "           7       0.86      0.67      0.75       922\n",
      "           8       0.85      0.52      0.65       346\n",
      "\n",
      "    accuracy                           0.97    128376\n",
      "   macro avg       0.73      0.62      0.66    128376\n",
      "weighted avg       0.96      0.97      0.96    128376\n",
      "\n",
      "Epoch 6/10, Train Loss: 0.1892, Train Accuracy: 0.9852, Validation Loss: 0.1826, Validation Accuracy: 0.9801\n",
      "              precision    recall  f1-score   support\n",
      "\n",
      "           0       0.98      1.00      0.99    119773\n",
      "           1       0.75      0.64      0.69      1842\n",
      "           2       0.00      0.00      0.00      1307\n",
      "           3       0.76      0.69      0.72      1341\n",
      "           4       0.60      0.72      0.66       751\n",
      "           5       0.89      0.76      0.82      1837\n",
      "           6       0.84      0.68      0.75       257\n",
      "           7       0.87      0.69      0.77       922\n",
      "           8       0.86      0.55      0.67       346\n",
      "\n",
      "    accuracy                           0.97    128376\n",
      "   macro avg       0.73      0.64      0.67    128376\n",
      "weighted avg       0.96      0.97      0.96    128376\n",
      "\n",
      "Epoch 7/10, Train Loss: 0.1403, Train Accuracy: 0.9876, Validation Loss: 0.1465, Validation Accuracy: 0.9811\n",
      "              precision    recall  f1-score   support\n",
      "\n",
      "           0       0.98      1.00      0.99    119773\n",
      "           1       0.74      0.65      0.69      1842\n",
      "           2       0.00      0.00      0.00      1307\n",
      "           3       0.75      0.70      0.73      1341\n",
      "           4       0.61      0.75      0.67       751\n",
      "           5       0.90      0.78      0.83      1837\n",
      "           6       0.83      0.68      0.75       257\n",
      "           7       0.87      0.70      0.77       922\n",
      "           8       0.85      0.56      0.67       346\n",
      "\n",
      "    accuracy                           0.97    128376\n",
      "   macro avg       0.73      0.65      0.68    128376\n",
      "weighted avg       0.96      0.97      0.97    128376\n",
      "\n",
      "Epoch 8/10, Train Loss: 0.1073, Train Accuracy: 0.9894, Validation Loss: 0.1229, Validation Accuracy: 0.9817\n",
      "              precision    recall  f1-score   support\n",
      "\n",
      "           0       0.98      1.00      0.99    119773\n",
      "           1       0.74      0.67      0.70      1842\n",
      "           2       0.00      0.00      0.00      1307\n",
      "           3       0.76      0.71      0.73      1341\n",
      "           4       0.62      0.76      0.68       751\n",
      "           5       0.90      0.79      0.84      1837\n",
      "           6       0.84      0.69      0.76       257\n",
      "           7       0.87      0.71      0.78       922\n",
      "           8       0.84      0.57      0.68       346\n",
      "\n",
      "    accuracy                           0.97    128376\n",
      "   macro avg       0.73      0.65      0.68    128376\n",
      "weighted avg       0.96      0.97      0.97    128376\n",
      "\n",
      "Epoch 9/10, Train Loss: 0.0839, Train Accuracy: 0.9909, Validation Loss: 0.1071, Validation Accuracy: 0.9826\n",
      "              precision    recall  f1-score   support\n",
      "\n",
      "           0       0.98      1.00      0.99    119773\n",
      "           1       0.73      0.67      0.70      1842\n",
      "           2       0.00      0.00      0.00      1307\n",
      "           3       0.75      0.71      0.73      1341\n",
      "           4       0.62      0.77      0.69       751\n",
      "           5       0.90      0.80      0.84      1837\n",
      "           6       0.84      0.71      0.77       257\n",
      "           7       0.87      0.72      0.79       922\n",
      "           8       0.81      0.57      0.67       346\n",
      "\n",
      "    accuracy                           0.97    128376\n",
      "   macro avg       0.72      0.66      0.69    128376\n",
      "weighted avg       0.96      0.97      0.97    128376\n",
      "\n",
      "Epoch 10/10, Train Loss: 0.0668, Train Accuracy: 0.9921, Validation Loss: 0.0966, Validation Accuracy: 0.9829\n"
     ]
    },
    {
     "data": {
      "text/plain": [
       "<Figure size 1200x400 with 2 Axes>"
      ],
      "image/png": "[encoded data removed]"
     },
     "metadata": {},
     "output_type": "display_data"
    }
   ],
   "execution_count": 54
  },
  {
   "metadata": {
    "ExecuteTime": {
     "end_time": "2024-12-09T14:58:54.301332Z",
     "start_time": "2024-12-09T14:58:54.298438Z"
    }
   },
   "cell_type": "code",
   "source": "",
   "outputs": [],
   "execution_count": 18
  },
  {
   "cell_type": "markdown",
   "source": [
    "<div dir=\"rtl\" style=\"font-family: Vazir; width: 85%; font-size: 16px\">\n",
    "\n",
    "*بخش دوم:*\n",
    "---\n",
    "پاسح تشریحی قسمت (د):\n",
    "---\n",
    "# پاسخ خود را اینجا بنویسید:\n",
    "---"
   ],
   "metadata": {
    "id": "WA4R7F6gmzek"
   }
  },
  {
   "metadata": {
    "ExecuteTime": {
     "end_time": "2024-12-08T19:26:56.107172Z",
     "start_time": "2024-12-08T19:26:56.102414Z"
    }
   },
   "cell_type": "code",
   "source": [
    "print(\"\"\"\n",
    "تفاوت‌های قابل توجهی بین سه مدل وجود دارد که بیشتر مربوط به پایداری و نوسانات در منحنی‌های خطا و دقت است. BiRNN با پایداری بالاتر و نوسانات کمتر، به نظر می‌رسد عملکرد بهتری دارد. BiLSTM با وجود دقت بالا، به دلیل نوسانات زیاد و overfitting ممکن است نیاز به تنظیمات بیشتری داشته باشد. BiGRU نیز عملکرد خوبی دارد، اما نوسانات دقت اعتبارسنجی نشان می‌دهد که نیاز به بهبود در برخی از مراحل آموزش وجود دارد.\n",
    "\"\"\")"
   ],
   "outputs": [
    {
     "name": "stdout",
     "output_type": "stream",
     "text": [
      "\n",
      "تفاوت‌های قابل توجهی بین سه مدل وجود دارد که بیشتر مربوط به پایداری و نوسانات در منحنی‌های خطا و دقت است. BiRNN با پایداری بالاتر و نوسانات کمتر، به نظر می‌رسد عملکرد بهتری دارد. BiLSTM با وجود دقت بالا، به دلیل نوسانات زیاد و overfitting ممکن است نیاز به تنظیمات بیشتری داشته باشد. BiGRU نیز عملکرد خوبی دارد، اما نوسانات دقت اعتبارسنجی نشان می‌دهد که نیاز به بهبود در برخی از مراحل آموزش وجود دارد.\n",
      "\n"
     ]
    }
   ],
   "execution_count": 39
  },
  {
   "cell_type": "markdown",
   "source": [
    "<div dir=\"rtl\" style=\"font-family: Vazir; width: 85%; font-size: 16px\">\n",
    "\n",
    "#**سوال دوم:**"
   ],
   "metadata": {
    "id": "3u2F7h_YMmvp"
   }
  },
  {
   "cell_type": "markdown",
   "source": [
    "<div dir=\"rtl\" style=\"font-family: Vazir; width: 85%; font-size: 16px\">\n",
    "\n",
    "*بخش مجموعه داده:*\n",
    "---\n",
    "برای قسمت های (الف) تا (د) این بخش کد را ساختار کد در این بخش بر عهده خود شماست\n",
    "---"
   ],
   "metadata": {
    "id": "0vAFTulEMpUx"
   }
  },
  {
   "metadata": {
    "ExecuteTime": {
     "end_time": "2024-12-11T19:47:16.432682Z",
     "start_time": "2024-12-11T19:47:04.653684Z"
    }
   },
   "cell_type": "code",
   "source": [
    "# part a\n",
    "import torch\n",
    "import torch.nn as nn\n",
    "import torch.optim as optim\n",
    "from transformers import XLMRobertaTokenizer, XLMRobertaModel\n",
    "from datasets import load_dataset\n",
    "\n",
    "dataset = load_dataset(\"EdinburghNLP/xsum\")\n"
   ],
   "outputs": [],
   "execution_count": 2
  },
  {
   "metadata": {
    "ExecuteTime": {
     "end_time": "2024-12-11T19:48:02.943513Z",
     "start_time": "2024-12-11T19:48:02.925138Z"
    }
   },
   "cell_type": "code",
   "source": [
    "\n",
    "train_data = dataset[\"train\"].select(range(int(0.3 * len(dataset[\"train\"]))))\n",
    "val_data = dataset[\"validation\"].select(range(int(0.1 * len(dataset[\"validation\"]))))\n",
    "print(val_data[0])"
   ],
   "outputs": [
    {
     "name": "stdout",
     "output_type": "stream",
     "text": [
      "{'document': 'The ex-Reading defender denied fraudulent trading charges relating to the Sodje Sports Foundation - a charity to raise money for Nigerian sport.\\nMr Sodje, 37, is jointly charged with elder brothers Efe, 44, Bright, 50 and Stephen, 42.\\nAppearing at the Old Bailey earlier, all four denied the offence.\\nThe charge relates to offences which allegedly took place between 2008 and 2014.\\nSam, from Kent, Efe and Bright, of Greater Manchester, and Stephen, from Bexley, are due to stand trial in July.\\nThey were all released on bail.', 'summary': 'Former Premier League footballer Sam Sodje has appeared in court alongside three brothers accused of charity fraud.', 'id': '38295789'}\n"
     ]
    }
   ],
   "execution_count": 3
  },
  {
   "cell_type": "code",
   "source": [
    "# part b\n",
    "import re\n",
    "\n",
    "\n",
    "def tokenize_text(text):\n",
    "    text = text.lower()\n",
    "    text = re.sub(r'[^\\w\\s]', '', text)\n",
    "    tokens = text.split()\n",
    "    return tokens\n",
    "\n",
    "\n",
    "def tokenize_function(examples):\n",
    "    return {'tokens': [tokenize_text(text) for text in examples['document']]}\n",
    "\n",
    "\n",
    "train_data_2 = dataset[\"train\"]\n",
    "valid_data_2 = dataset[\"validation\"]\n",
    "token_of_train_data = dataset[\"train\"].map(tokenize_function, batched=True)\n",
    "token_of_val_data = dataset[\"validation\"].map(tokenize_function, batched=True)\n",
    "\n",
    "print(token_of_train_data['tokens'][0])\n"
   ],
   "metadata": {
    "id": "xmlIkAWmnDN7",
    "ExecuteTime": {
     "end_time": "2024-12-11T19:49:16.338635Z",
     "start_time": "2024-12-11T19:48:09.099809Z"
    }
   },
   "outputs": [
    {
     "name": "stdout",
     "output_type": "stream",
     "text": [
      "['the', 'full', 'cost', 'of', 'damage', 'in', 'newton', 'stewart', 'one', 'of', 'the', 'areas', 'worst', 'affected', 'is', 'still', 'being', 'assessed', 'repair', 'work', 'is', 'ongoing', 'in', 'hawick', 'and', 'many', 'roads', 'in', 'peeblesshire', 'remain', 'badly', 'affected', 'by', 'standing', 'water', 'trains', 'on', 'the', 'west', 'coast', 'mainline', 'face', 'disruption', 'due', 'to', 'damage', 'at', 'the', 'lamington', 'viaduct', 'many', 'businesses', 'and', 'householders', 'were', 'affected', 'by', 'flooding', 'in', 'newton', 'stewart', 'after', 'the', 'river', 'cree', 'overflowed', 'into', 'the', 'town', 'first', 'minister', 'nicola', 'sturgeon', 'visited', 'the', 'area', 'to', 'inspect', 'the', 'damage', 'the', 'waters', 'breached', 'a', 'retaining', 'wall', 'flooding', 'many', 'commercial', 'properties', 'on', 'victoria', 'street', 'the', 'main', 'shopping', 'thoroughfare', 'jeanette', 'tate', 'who', 'owns', 'the', 'cinnamon', 'cafe', 'which', 'was', 'badly', 'affected', 'said', 'she', 'could', 'not', 'fault', 'the', 'multiagency', 'response', 'once', 'the', 'flood', 'hit', 'however', 'she', 'said', 'more', 'preventative', 'work', 'could', 'have', 'been', 'carried', 'out', 'to', 'ensure', 'the', 'retaining', 'wall', 'did', 'not', 'fail', 'it', 'is', 'difficult', 'but', 'i', 'do', 'think', 'there', 'is', 'so', 'much', 'publicity', 'for', 'dumfries', 'and', 'the', 'nith', 'and', 'i', 'totally', 'appreciate', 'that', 'but', 'it', 'is', 'almost', 'like', 'were', 'neglected', 'or', 'forgotten', 'she', 'said', 'that', 'may', 'not', 'be', 'true', 'but', 'it', 'is', 'perhaps', 'my', 'perspective', 'over', 'the', 'last', 'few', 'days', 'why', 'were', 'you', 'not', 'ready', 'to', 'help', 'us', 'a', 'bit', 'more', 'when', 'the', 'warning', 'and', 'the', 'alarm', 'alerts', 'had', 'gone', 'out', 'meanwhile', 'a', 'flood', 'alert', 'remains', 'in', 'place', 'across', 'the', 'borders', 'because', 'of', 'the', 'constant', 'rain', 'peebles', 'was', 'badly', 'hit', 'by', 'problems', 'sparking', 'calls', 'to', 'introduce', 'more', 'defences', 'in', 'the', 'area', 'scottish', 'borders', 'council', 'has', 'put', 'a', 'list', 'on', 'its', 'website', 'of', 'the', 'roads', 'worst', 'affected', 'and', 'drivers', 'have', 'been', 'urged', 'not', 'to', 'ignore', 'closure', 'signs', 'the', 'labour', 'partys', 'deputy', 'scottish', 'leader', 'alex', 'rowley', 'was', 'in', 'hawick', 'on', 'monday', 'to', 'see', 'the', 'situation', 'first', 'hand', 'he', 'said', 'it', 'was', 'important', 'to', 'get', 'the', 'flood', 'protection', 'plan', 'right', 'but', 'backed', 'calls', 'to', 'speed', 'up', 'the', 'process', 'i', 'was', 'quite', 'taken', 'aback', 'by', 'the', 'amount', 'of', 'damage', 'that', 'has', 'been', 'done', 'he', 'said', 'obviously', 'it', 'is', 'heartbreaking', 'for', 'people', 'who', 'have', 'been', 'forced', 'out', 'of', 'their', 'homes', 'and', 'the', 'impact', 'on', 'businesses', 'he', 'said', 'it', 'was', 'important', 'that', 'immediate', 'steps', 'were', 'taken', 'to', 'protect', 'the', 'areas', 'most', 'vulnerable', 'and', 'a', 'clear', 'timetable', 'put', 'in', 'place', 'for', 'flood', 'prevention', 'plans', 'have', 'you', 'been', 'affected', 'by', 'flooding', 'in', 'dumfries', 'and', 'galloway', 'or', 'the', 'borders', 'tell', 'us', 'about', 'your', 'experience', 'of', 'the', 'situation', 'and', 'how', 'it', 'was', 'handled', 'email', 'us', 'on', 'selkirknewsbbccouk', 'or', 'dumfriesbbccouk']\n"
     ]
    }
   ],
   "execution_count": 4
  },
  {
   "metadata": {
    "ExecuteTime": {
     "end_time": "2024-12-11T19:58:26.329420Z",
     "start_time": "2024-12-11T19:58:08.703287Z"
    }
   },
   "cell_type": "code",
   "source": [
    "# part c\n",
    "import collections\n",
    "\n",
    "special_tokens = ['<s>', '</s>', '<pad>', '<unk>']\n",
    "\n",
    "\n",
    "def build_vocab(dataset, cutoff):\n",
    "    token_count = collections.Counter()\n",
    "\n",
    "    for word in dataset['document']:\n",
    "            token_count[word] += 1\n",
    "    print(token_count)\n",
    "    token_to_id = {}\n",
    "    id_to_token = {}\n",
    "    for token in special_tokens:\n",
    "        token_to_id[token] = len(token_to_id)\n",
    "        id_to_token[len(id_to_token)] = token\n",
    "    for token, count in token_count.items():\n",
    "        if count >= cutoff:\n",
    "            if token not in token_to_id:\n",
    "                token_to_id[token] = len(token_to_id)\n",
    "                id_to_token[len(id_to_token)] = token\n",
    "\n",
    "    return token_to_id, id_to_token\n",
    "\n",
    "\n",
    "def token_to_id(token, token_to_id):\n",
    "    return token_to_id.get(token, token_to_id.get('<unk>', -1))\n",
    "\n",
    "\n",
    "def id_to_token(id, id_to_token):\n",
    "    return id_to_token.get(id, '<unk>')\n",
    "\n",
    "\n",
    "def vocab_size(token_to_id):\n",
    "    return len(token_to_id)\n",
    "\n",
    "\n",
    "vocab = build_vocab(dataset[\"train\"], cutoff=10)\n",
    "print(len(vocab))"
   ],
   "outputs": [
    {
     "name": "stderr",
     "output_type": "stream",
     "text": [
      "IOPub data rate exceeded.\n",
      "The Jupyter server will temporarily stop sending output\n",
      "to the client in order to avoid crashing it.\n",
      "To change this limit, set the config variable\n",
      "`--ServerApp.iopub_data_rate_limit`.\n",
      "\n",
      "Current values:\n",
      "ServerApp.iopub_data_rate_limit=1000000.0 (bytes/sec)\n",
      "ServerApp.rate_limit_window=3.0 (secs)\n",
      "\n"
     ]
    }
   ],
   "execution_count": 12
  },
  {
   "metadata": {
    "ExecuteTime": {
     "end_time": "2024-12-09T14:08:30.392721Z",
     "start_time": "2024-12-09T14:08:22.435314Z"
    }
   },
   "cell_type": "code",
   "source": [
    "# part d\n",
    "import numpy as np\n",
    "\n",
    "\n",
    "def load_glove_embeddings(file_path):\n",
    "    embeddings = {}\n",
    "    with open(file_path, 'r', encoding='utf-8') as f:\n",
    "        for line in f:\n",
    "            parts = line.strip().split()\n",
    "            word = parts[0]\n",
    "            vector = np.array(parts[1:], dtype=np.float32)\n",
    "            embeddings[word] = vector\n",
    "    return embeddings\n",
    "\n",
    "\n",
    "glove_file_path = 'data/glove.6B/glove.6B.100d.txt'\n",
    "glove_embeddings = load_glove_embeddings(glove_file_path)\n",
    "vocab = ['<s>', '</s>', '<pad>', '<unk>', 'hello', 'flood', 'defences']\n",
    "\n",
    "\n",
    "def create_vocab_embeddings(vocab, glove_embeddings, embedding_dim=100):\n",
    "    vocab_embeddings = []\n",
    "    for word in vocab:\n",
    "        if word in glove_embeddings:\n",
    "            vocab_embeddings.append(glove_embeddings[word])\n",
    "        else:\n",
    "            vocab_embeddings.append(np.zeros(embedding_dim))\n",
    "    return np.array(vocab_embeddings)\n",
    "\n",
    "\n",
    "vocab_embedding = create_vocab_embeddings(vocab, glove_embeddings)\n",
    "words_to_display = ['hello', 'flood', 'defences']\n",
    "\n",
    "print(words_to_display)\n",
    "for word in words_to_display:\n",
    "    if word in vocab:\n",
    "        word_id = vocab.index(word)\n",
    "        print(f\"'{word}':\")\n",
    "        print(vocab_embedding[word_id][:10])\n",
    "        print()\n"
   ],
   "outputs": [
    {
     "name": "stdout",
     "output_type": "stream",
     "text": [
      "['hello', 'flood', 'defences']\n",
      "'hello':\n",
      "[ 0.26688001  0.39631999  0.61690003 -0.77451003 -0.1039      0.26697001\n",
      "  0.27880001  0.30992001  0.0054685  -0.085256  ]\n",
      "\n",
      "'flood':\n",
      "[-0.032032   -0.0235     -0.064094   -0.59622997 -0.072689   -0.49546\n",
      " -0.52858001 -0.06579     0.25567001 -0.43259001]\n",
      "\n",
      "'defences':\n",
      "[-0.62348002 -0.34244999 -0.025379    0.086102   -0.59426999 -0.21151\n",
      " -0.61794001 -1.0029     -0.24208     0.34007001]\n",
      "\n"
     ]
    }
   ],
   "execution_count": 8
  },
  {
   "cell_type": "markdown",
   "source": [
    "<div dir=\"rtl\" style=\"font-family: Vazir; width: 85%; font-size: 16px\">\n",
    "\n",
    "*بخش اول:*\n",
    "---\n"
   ],
   "metadata": {
    "id": "yeF7WzZliUQi"
   }
  },
  {
   "cell_type": "code",
   "source": [
    "import torch\n",
    "from torch.utils.data import Dataset, DataLoader\n",
    "\n",
    "\n",
    "class NERDataset2(Dataset):\n",
    "    def __init__(self, data, token_to_id):\n",
    "        self.data = data\n",
    "        self.token_to_id = token_to_id\n",
    "\n",
    "    def __len__(self):\n",
    "        return len(self.data)\n",
    "\n",
    "    def __getitem__(self, idx):\n",
    "        tokens = self.data[idx]['tokens']\n",
    "        tags = self.data[idx]['ner_tags']\n",
    "        token_ids = [token_to_id(token, self.token_to_id) for token in tokens]\n",
    "        return torch.tensor(token_ids), torch.tensor(tags)\n",
    "\n",
    "\n",
    "def collate_fn2(batch):\n",
    "    token_ids, tags = zip(*batch)\n",
    "    lengths = [len(seq) for seq in token_ids]\n",
    "    max_len = max(lengths)\n",
    "\n",
    "    padded_tokens = torch.zeros(len(batch), max_len, dtype=torch.long)\n",
    "    padded_tags = torch.zeros(len(batch), max_len, dtype=torch.long)\n",
    "\n",
    "    for i, (tokens, tag_seq) in enumerate(zip(token_ids, tags)):\n",
    "        padded_tokens[i, :len(tokens)] = tokens\n",
    "        padded_tags[i, :len(tag_seq)] = tag_seq\n",
    "\n",
    "    return padded_tokens, padded_tags, lengths\n",
    "\n",
    "\n",
    "train_dataset_2 = NERDataset2(train_data, token_to_id_dict)\n",
    "train_loader_2 = DataLoader(train_dataset, batch_size=32, collate_fn=collate_fn2)\n",
    "\n",
    "valid_dataset_2 = NERDataset2(valid_data, token_to_id_dict)\n",
    "valid_loader_2 = DataLoader(valid_dataset, batch_size=32, collate_fn=collate_fn2)"
   ],
   "metadata": {
    "id": "jvtj7mWlmHbV",
    "ExecuteTime": {
     "end_time": "2024-12-09T18:34:13.245982Z",
     "start_time": "2024-12-09T18:34:13.232077Z"
    }
   },
   "outputs": [],
   "execution_count": 57
  },
  {
   "cell_type": "markdown",
   "source": [
    "<div dir=\"rtl\" style=\"font-family: Vazir; width: 85%; font-size: 16px\">\n",
    "\n",
    "*بخش دوم:*\n",
    "---\n",
    "برای قسمت های (الف) تا (ج) این بخش کد را ساختار کد در این بخش بر عهده خود شماست\n",
    "---"
   ],
   "metadata": {
    "id": "zNyARkr7lk3k"
   }
  },
  {
   "cell_type": "code",
   "source": [
    "# part a using self attention\n",
    "import torch\n",
    "import torch.nn as nn\n",
    "import torch.nn.functional as F\n",
    "\n",
    "\n",
    "class SelfAttention(nn.Module):\n",
    "    def __init__(self, hidden_dim):\n",
    "        super().__init__()\n",
    "        self.query = nn.Linear(hidden_dim, hidden_dim)\n",
    "        self.key = nn.Linear(hidden_dim, hidden_dim)\n",
    "        self.value = nn.Linear(hidden_dim, hidden_dim)\n",
    "\n",
    "        self.out = nn.Linear(hidden_dim, hidden_dim)\n",
    "\n",
    "    def forward(self, x):\n",
    "        Q = self.query(x)\n",
    "        K = self.key(x)\n",
    "        V = self.value(x)\n",
    "\n",
    "        attn_scores = torch.matmul(Q, K.transpose(-2, -1))\n",
    "        attn_scores = attn_scores / torch.sqrt(torch.tensor(Q.size(-1), dtype=torch.float))\n",
    "        attn_weights = F.softmax(attn_scores, dim=-1)\n",
    "\n",
    "        output = torch.matmul(attn_weights, V)\n",
    "        output = self.out(output)\n",
    "        return output, attn_weights\n",
    "\n",
    "\n",
    "print(\"\"\"\n",
    "مکانیزم Attention معمولاً بر اساس مقادیر توجه (Attention Scores) به‌دست می‌آید که نشان می‌دهد کدام قسمت از ورودی باید برای تولید خروجی بیشتر توجه شود.که در اینجا از مکانیزم self attention استفاده کردیم ک برخلاف مکانیزم توجه معمولی که بین دو دنباله ورودی و خروجی عمل می‌کند، در Self-Attention مدل بر روی خود دنباله ورودی تمرکز می‌کند.                                                                                                                  \n",
    "\"\"\")"
   ],
   "metadata": {
    "id": "rAvfMTGal1is",
    "ExecuteTime": {
     "end_time": "2024-12-09T18:34:29.037389Z",
     "start_time": "2024-12-09T18:34:29.030153Z"
    }
   },
   "outputs": [
    {
     "name": "stdout",
     "output_type": "stream",
     "text": [
      "\n",
      "مکانیزم Attention معمولاً بر اساس مقادیر توجه (Attention Scores) به‌دست می‌آید که نشان می‌دهد کدام قسمت از ورودی باید برای تولید خروجی بیشتر توجه شود.که در اینجا از مکانیزم self attention استفاده کردیم ک برخلاف مکانیزم توجه معمولی که بین دو دنباله ورودی و خروجی عمل می‌کند، در Self-Attention مدل بر روی خود دنباله ورودی تمرکز می‌کند.                                                                                                                  \n",
      "\n"
     ]
    }
   ],
   "execution_count": 58
  },
  {
   "metadata": {
    "ExecuteTime": {
     "end_time": "2024-12-09T18:48:23.968794Z",
     "start_time": "2024-12-09T18:44:01.344409Z"
    }
   },
   "cell_type": "code",
   "source": [
    "import torch\n",
    "import torch.nn as nn\n",
    "import torch.optim as optim\n",
    "import numpy as np\n",
    "\n",
    "### this code didn't run with the correct data run with temp data for see the code is correct or not\n",
    "\n",
    "class EncoderDecoderModel(nn.Module):\n",
    "    def __init__(self, vocab_size, embedding_dim, hidden_dim, tagset_size, glove_embeddings=None):\n",
    "        super().__init__()\n",
    "\n",
    "        self.embedding = nn.Embedding.from_pretrained(glove_embeddings, freeze=False)\n",
    "        self.encoder_gru = nn.GRU(embedding_dim, hidden_dim, bidirectional=True, batch_first=True)\n",
    "        self.self_attention = SelfAttention(hidden_dim * 2) \n",
    "        self.decoder_gru = nn.GRU(hidden_dim * 2, hidden_dim, batch_first=True)\n",
    "        self.hidden2tag = nn.Linear(hidden_dim, tagset_size)\n",
    "\n",
    "    def forward(self, sentences, lengths):\n",
    "        embedded = self.embedding(sentences)\n",
    "        encoder_outputs, hidden = self.encoder_gru(embedded) \n",
    "        attended_values, _ = self.self_attention(encoder_outputs)\n",
    "        decoder_outputs, _ = self.decoder_gru(attended_values) \n",
    "        tag_space = self.hidden2tag(decoder_outputs) \n",
    "        tag_scores = torch.log_softmax(tag_space, dim=2)\n",
    "\n",
    "        return tag_scores\n",
    "\n",
    "embedding_size = 100\n",
    "hidden_size = 100\n",
    "batch_size = 32\n",
    "num_epochs = 10\n",
    "learning_rate = 1e-3\n",
    "tagset_size = 10 \n",
    "\n",
    "\n",
    "vocab_size = 5000 # just use this for test that my code is correct\n",
    "\n",
    "glove_embeddings = np.random.randn(vocab_size, embedding_size).astype(np.float32)\n",
    "glove_embeddings = torch.from_numpy(glove_embeddings)\n",
    "\n",
    "model = EncoderDecoderModel(vocab_size, embedding_size, hidden_size, tagset_size, glove_embeddings=glove_embeddings)\n",
    "\n",
    "loss_function = nn.NLLLoss(\n",
    "    ignore_index=token_to_id('<pad>', token_to_id_dict)\n",
    ")\n",
    "optimizer = optim.Adam(model.parameters(), lr=learning_rate)\n",
    "\n",
    "for epoch in range(num_epochs):\n",
    "    model.train()\n",
    "    total_loss = 0.0\n",
    "    for i, (inputs, targets, lengths) in enumerate(train_loader_2):\n",
    "        optimizer.zero_grad()\n",
    "        outputs = model(inputs, lengths)\n",
    "        log_outputs = torch.log_softmax(outputs, dim=-1)\n",
    "        loss = loss_function(log_outputs.view(-1, tagset_size), targets.view(-1))\n",
    "        loss.backward()\n",
    "        optimizer.step()\n",
    "        total_loss += loss.item()\n",
    "\n",
    "    print(f'Epoch {epoch + 1}/{num_epochs}, Loss: {total_loss / len(train_loader_2):.4f}')"
   ],
   "outputs": [
    {
     "name": "stdout",
     "output_type": "stream",
     "text": [
      "Epoch 1/10, Loss: 0.3533\n",
      "Epoch 2/10, Loss: 0.2791\n",
      "Epoch 3/10, Loss: 0.1825\n",
      "Epoch 4/10, Loss: 0.1228\n",
      "Epoch 5/10, Loss: 0.0856\n",
      "Epoch 6/10, Loss: 0.0622\n",
      "Epoch 7/10, Loss: 0.0504\n",
      "Epoch 8/10, Loss: 0.0398\n",
      "Epoch 9/10, Loss: 0.0337\n",
      "Epoch 10/10, Loss: 0.0297\n"
     ]
    }
   ],
   "execution_count": 64
  },
  {
   "metadata": {
    "ExecuteTime": {
     "end_time": "2024-12-09T19:21:23.622944Z",
     "start_time": "2024-12-09T18:54:47.106915Z"
    }
   },
   "cell_type": "code",
   "source": [
    "import torch\n",
    "import torch.nn as nn\n",
    "import torch.optim as optim\n",
    "from rouge_score import rouge_scorer\n",
    "import matplotlib.pyplot as plt\n",
    "\n",
    "### this code didn't run with the correct data run with temp data for see the code is correct or not\n",
    "\n",
    "def compute_rouge(predictions, references):\n",
    "    scorer = rouge_scorer.RougeScorer(['rouge1', 'rouge2', 'rougeL'], use_stemmer=True)\n",
    "    rouge_scores = {'rouge1': 0, 'rouge2': 0, 'rougeL': 0}\n",
    "\n",
    "    for pred, ref in zip(predictions, references):\n",
    "        pred = ' '.join([str(token) for token in pred]) \n",
    "        ref = ' '.join([str(token) for token in ref])\n",
    "        score = scorer.score(ref, pred)\n",
    "        rouge_scores['rouge1'] += score['rouge1'].fmeasure\n",
    "        rouge_scores['rouge2'] += score['rouge2'].fmeasure\n",
    "        rouge_scores['rougeL'] += score['rougeL'].fmeasure\n",
    "\n",
    "    return {key: value / len(predictions) for key, value in rouge_scores.items()}\n",
    "\n",
    "\n",
    "LossFunc = nn.NLLLoss(ignore_index=token_to_id('<pad>', token_to_id_dict))\n",
    "optimizer = optim.Adam(model.parameters(), lr=learning_rate)\n",
    "\n",
    "train_losses = []\n",
    "valid_losses = []\n",
    "train_rouge = {'rouge1': [], 'rouge2': [], 'rougeL': []}\n",
    "valid_rouge = {'rouge1': [], 'rouge2': [], 'rougeL': []}\n",
    "\n",
    "for epoch in range(num_epochs):\n",
    "    model.train()\n",
    "    running_loss = 0.0\n",
    "    train_predictions = []\n",
    "    train_references = []\n",
    "\n",
    "    for i, (inputs, targets, lengths) in enumerate(train_loader_2):\n",
    "        optimizer.zero_grad()\n",
    "\n",
    "        outputs = model(inputs, lengths)\n",
    "\n",
    "        log_outputs = torch.log_softmax(outputs, dim=-1)\n",
    "\n",
    "        loss = LossFunc(log_outputs.view(-1, tagset_size), targets.view(-1))\n",
    "        loss.backward()\n",
    "        optimizer.step()\n",
    "\n",
    "        running_loss += loss.item()\n",
    "\n",
    "        pred = outputs.argmax(dim=-1).cpu().numpy() \n",
    "        targets = targets.cpu().numpy()  \n",
    "\n",
    "        train_predictions.append(pred.tolist())\n",
    "        train_references.append(targets.tolist())\n",
    "\n",
    "    rouge_scores = compute_rouge(train_predictions, train_references)\n",
    "    train_losses.append(running_loss / len(train_loader_2))\n",
    "    train_rouge['rouge1'].append(rouge_scores['rouge1'])\n",
    "    train_rouge['rouge2'].append(rouge_scores['rouge2'])\n",
    "    train_rouge['rougeL'].append(rouge_scores['rougeL'])\n",
    "\n",
    "    model.eval()\n",
    "    valid_loss = 0.0\n",
    "    valid_predictions = []\n",
    "    valid_references = []\n",
    "\n",
    "    with torch.no_grad():\n",
    "        for inputs, targets, lengths in valid_loader_2:\n",
    "\n",
    "            outputs = model(inputs, lengths)\n",
    "            log_outputs = torch.log_softmax(outputs, dim=-1)\n",
    "\n",
    "            loss = LossFunc(log_outputs.view(-1, tagset_size), targets.view(-1))\n",
    "            valid_loss += loss.item()\n",
    "\n",
    "            pred = outputs.argmax(dim=-1).cpu().numpy()\n",
    "            targets = targets.cpu().numpy()\n",
    "\n",
    "            valid_predictions.append(pred.tolist())\n",
    "            valid_references.append(targets.tolist())\n",
    "\n",
    "    rouge_scores = compute_rouge(valid_predictions, valid_references)\n",
    "    valid_losses.append(valid_loss / len(valid_loader_2))\n",
    "    valid_rouge['rouge1'].append(rouge_scores['rouge1'])\n",
    "    valid_rouge['rouge2'].append(rouge_scores['rouge2'])\n",
    "    valid_rouge['rougeL'].append(rouge_scores['rougeL'])\n",
    "\n",
    "    print(f\"Epoch {epoch + 1}/{num_epochs} - Train Loss: {train_losses[-1]:.4f} - Valid Loss: {valid_losses[-1]:.4f}\")\n",
    "\n",
    "plt.figure(figsize=(12, 6))\n",
    "plt.subplot(1, 2, 1)\n",
    "plt.plot(range(1, num_epochs + 1), train_losses, label='Train Loss')\n",
    "plt.plot(range(1, num_epochs + 1), valid_losses, label='Validation Loss')\n",
    "plt.xlabel('Epoch')\n",
    "plt.ylabel('Loss')\n",
    "plt.title('Training and Validation Loss')\n",
    "plt.legend()\n",
    "\n",
    "plt.subplot(1, 2, 2)\n",
    "plt.plot(range(1, num_epochs + 1), train_rouge['rouge1'], label='Train ROUGE-1')\n",
    "plt.plot(range(1, num_epochs + 1), valid_rouge['rouge1'], label='Validation ROUGE-1')\n",
    "plt.plot(range(1, num_epochs + 1), train_rouge['rouge2'], label='Train ROUGE-2')\n",
    "plt.plot(range(1, num_epochs + 1), valid_rouge['rouge2'], label='Validation ROUGE-2')\n",
    "plt.plot(range(1, num_epochs + 1), train_rouge['rougeL'], label='Train ROUGE-L')\n",
    "plt.plot(range(1, num_epochs + 1), valid_rouge['rougeL'], label='Validation ROUGE-L')\n",
    "plt.xlabel('Epoch')\n",
    "plt.ylabel('ROUGE Score')\n",
    "plt.title('Training and Validation ROUGE')\n",
    "plt.legend()\n",
    "\n",
    "plt.tight_layout()\n",
    "plt.show()\n"
   ],
   "outputs": [
    {
     "name": "stdout",
     "output_type": "stream",
     "text": [
      "Epoch 1/10 - Train Loss: 0.0238 - Valid Loss: 0.0783\n",
      "Epoch 2/10 - Train Loss: 0.0221 - Valid Loss: 0.0772\n",
      "Epoch 3/10 - Train Loss: 0.0192 - Valid Loss: 0.0793\n",
      "Epoch 4/10 - Train Loss: 0.0192 - Valid Loss: 0.0778\n",
      "Epoch 5/10 - Train Loss: 0.0165 - Valid Loss: 0.0789\n",
      "Epoch 6/10 - Train Loss: 0.0152 - Valid Loss: 0.0821\n",
      "Epoch 7/10 - Train Loss: 0.0154 - Valid Loss: 0.0866\n",
      "Epoch 8/10 - Train Loss: 0.0148 - Valid Loss: 0.0919\n",
      "Epoch 9/10 - Train Loss: 0.0150 - Valid Loss: 0.0937\n",
      "Epoch 10/10 - Train Loss: 0.0136 - Valid Loss: 0.0924\n"
     ]
    },
    {
     "data": {
      "text/plain": [
       "<Figure size 1200x600 with 2 Axes>"
      ],
      "image/png": "[encoded data removed]"
     },
     "metadata": {},
     "output_type": "display_data"
    }
   ],
   "execution_count": 66
  },
  {
   "metadata": {},
   "cell_type": "markdown",
   "source": [
    "<div dir=\"rtl\" style=\"font-family: Vazir; width: 85%; font-size: 16px\">\n",
    "\n",
    "*بخش دوم:*\n",
    "---\n",
    "پاسح تشریحی قسمت (د):\n",
    "---\n",
    "# پاسخ خود را اینجا بنویسید:\n",
    "---"
   ]
  },
  {
   "metadata": {
    "ExecuteTime": {
     "end_time": "2024-12-11T20:29:55.994185Z",
     "start_time": "2024-12-11T20:29:55.989637Z"
    }
   },
   "cell_type": "code",
   "source": [
    "print(\"\"\"\n",
    " ROUGE (Recall-Oriented Understudy for Gisting Evaluation) یک مجموعه معیار است که برای ارزیابی کیفیت متن‌های تولید شده به‌ویژه در کارهایی مانند خلاصه‌سازی خودکار و ترجمه ماشینی استفاده می‌شود. این معیارها به مقایسه هم‌پوشانی کلمات یا عبارات در متن تولید شده و متن مرجع (که معمولاً توسط انسان نوشته شده) می‌پردازند.\n",
    "\"\"\")"
   ],
   "outputs": [
    {
     "name": "stdout",
     "output_type": "stream",
     "text": [
      "\n",
      " ROUGE (Recall-Oriented Understudy for Gisting Evaluation) یک مجموعه معیار است که برای ارزیابی کیفیت متن‌های تولید شده به‌ویژه در کارهایی مانند خلاصه‌سازی خودکار و ترجمه ماشینی استفاده می‌شود. این معیارها به مقایسه هم‌پوشانی کلمات یا عبارات در متن تولید شده و متن مرجع (که معمولاً توسط انسان نوشته شده) می‌پردازند.\n",
      "\n"
     ]
    }
   ],
   "execution_count": 14
  },
  {
   "cell_type": "markdown",
   "source": [
    "<div dir=\"rtl\" style=\"font-family: Vazir; width: 85%; font-size: 16px\">\n",
    "\n",
    "*بخش دوم:*\n",
    "---\n",
    "پاسح تشریحی قسمت (ه):\n",
    "---\n",
    "# پاسخ خود را اینجا بنویسید:\n",
    "---"
   ],
   "metadata": {
    "id": "mUM7PVo1l4vV"
   }
  },
  {
   "cell_type": "code",
   "source": [],
   "metadata": {
    "id": "JzEgFQuHl8bZ"
   },
   "execution_count": null,
   "outputs": []
  },
  {
   "cell_type": "markdown",
   "source": [
    "<div dir=\"rtl\" style=\"font-family: Vazir; width: 85%; font-size: 16px\">\n",
    "\n",
    "# **نکات مهم**"
   ],
   "metadata": {
    "id": "xI_2knW0NkyY"
   }
  },
  {
   "cell_type": "markdown",
   "metadata": {
    "id": "TEig2qIiMDhR"
   },
   "source": [
    "<div dir=\"rtl\" style=\"font-family: Vazir; width: 85%; font-size: 16px\">\n",
    "\n",
    "<div dir=\"rtl\" style=\"font-family: Vazir; width: 85%; font-size: 16px;\">\n",
    "    <p><strong>مهلت تحویل بدون جریمه:</strong> 10 آذر ماه ۱۴۰۲</p>\n",
    "    <p><strong>مهلت تحویل با تاخیر (با جریمه):</strong> 17 آذر ماه 1402</p>\n",
    "</div>\n",
    "<h4 dir=\"rtl\" style=\"font-family: Vazir; width: 85%;\">فایل ارسالی شما باید با فرمت زیر نامگذاری شود: <code>NLP_CA3_LASTNAME_STUDENTID.ipynb</code></h4>"
   ]
  },
  {
   "cell_type": "markdown",
   "metadata": {
    "id": "KuwVuIa0MDhR"
   },
   "source": [
    "<div dir=\"rtl\" style=\"font-family: Vazir; width: 85%; font-size: 16px\">\n",
    "\n",
    "<h4 dir=\"rtl\" style=\"font-family: Vazir; width: 85%;\">نحوه انجام این تمرین:</h4>\n",
    "<ul dir=\"rtl\" style=\"font-family: Vazir; width: 85%; font-size: 16px;\"> <li>برای هر  بخش و هر سوال به ساختار گفته شده در هر بخش توجه کنید، سعی کنید در بخش هایی که ساختار کد بر عهده خود شماست، با یک خط نوشته بالای هر سلول، بیان کنید این سلول چکاری انجام میدهد.</li> </ul>"
   ]
  },
  {
   "cell_type": "markdown",
   "metadata": {
    "id": "efm7DICPMDhS"
   },
   "source": [
    "<div dir=\"rtl\" style=\"font-family: Vazir; width: 85%; font-size: 16px\">\n",
    "\n",
    "<h4 dir=\"rtl\" style=\"font-family: Vazir; width: 85%;\">صداقت علمی:</h4> <ul dir=\"rtl\" style=\"font-family: Vazir; width: 85%; font-size: 16px;\"> <li>ما نوت‌بوک‌های تعداد مشخصی از دانشجویان که به صورت تصادفی انتخاب می‌شوند، بررسی خواهیم کرد. این بررسی‌ها اطمینان حاصل می‌کنند که کدی که نوشتید واقعاً پاسخ‌های موجود در نوت‌بوک شما را تولید می‌کند. اگر پاسخ‌های صحیح را در نوت‌بوک خود بدون کدی که واقعاً آن پاسخ‌ها را تولید کند تحویل دهید، این یک مورد جدی از عدم صداقت علمی محسوب می‌شود.</li> <li>ما همچنین بررسی‌های خودکاری را برای تشخیص سرقت علمی در نوت‌بوک‌های کولب انجام خواهیم داد. کپی کردن کد از دیگران نیز یک مورد جدی از عدم صداقت علمی محسوب می‌شود.</li> </ul>"
   ]
  },
  {
   "cell_type": "markdown",
   "metadata": {
    "id": "mqNfFt5AMDhS"
   },
   "source": [
    "<div dir=\"rtl\" style=\"font-family: Vazir; width: 85%; font-size: 16px\">\n",
    "\n",
    "<h4 dir=\"rtl\" style=\"font-family: Vazir; width: 85%;\">توضیحات تکمیلی:</h4> <ul dir=\"rtl\" style=\"font-family: Vazir; width: 85%; font-size: 16px;\">\n",
    "<li>\n",
    "خوانایی و دقت بررسی‌ها در گزارش نهایی از اهمیت ویژه‌ای برخوردار است. به تمرین‌هایی که به صورت کاغذی تحویل داده شوند یا به صورت عکس در سایت بارگذاری شوند، ترتیب اثری داده نخواهد شد.</li>\n",
    "<li>\n",
    " همه‌ی کدهای پیوست گزارش بایستی قابلیت اجرای مجدد داشته باشند. در صورتی که برای اجرا مجدد آن‌ها نیاز به تنظیمات خاصی می‌باشد، بایستی تنظیمات مورد نیاز را نیز در گزارش خود ذکر کنید.  دقت کنید که  تمامی کدها باید توسط شما اجرا شده باشند و نتایج اجرا در فایل کدهای ارسالی مشخص باشد. به کدهایی که نتایج اجرای آن‌ها در فایل ارسالی مشخص نباشد نمره‌ای تعلق نمی‌گیرد.\n",
    "</li>\n",
    "<li>\n",
    "تمرین تا یک هفته بعد از مهلت تعیین شده با تاخیر تحویل گرفته می‌شود. دقت کنید که شما جمعاً برای تمام تکالیف، ۱۴ روز زمان تحویل بدون جریمه دارید که تنها از ۷ روز آن برای هر تمرین می‌توانید استفاده کنید. در صورتی که این ۱۴ روز به اتمام رسیده باشد، به ازای هر روز تاخیر ده درصد جریمه می‌شود.\n",
    "</li>\n",
    "<li>توجه کنید این تمرین باید به صورت تک‌نفره انجام شود و پاسخ‌های ارائه شده باید نتیجه فعالیت فرد نویسنده باشد (همفکری و به اتفاق هم نوشتن تمرین نیز ممنوع است). در صورت مشاهده\n",
    " تشابه به همه افراد مشارکت‌کننده، نمره تمرین صفر و به استاد گزارش می‌گردد.\n",
    " </li>\n",
    " <li>برای مطالعه بیشتر درباره‌ی فرمت مارک‌دون می‌توانید از <a href=\"https://github.com/tajaddini/Persian-Markdown/blob/master/learn-MD.md\">این لینک</a> مطالعه کنید.\n",
    " </li>\n",
    "\n",
    " </ul>\n",
    " </div>"
   ]
  }
 ],
 "metadata": {
  "language_info": {
   "name": "python"
  },
  "colab": {
   "provenance": []
  },
  "kernelspec": {
   "name": "python3",
   "language": "python",
   "display_name": "Python 3 (ipykernel)"
  }
 },
 "nbformat": 4,
 "nbformat_minor": 0
}
